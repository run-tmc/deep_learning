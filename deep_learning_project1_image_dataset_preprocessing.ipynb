{
 "cells": [
  {
   "cell_type": "markdown",
   "metadata": {},
   "source": [
    "Deep Learning Project 1 - notMNIST"
   ]
  },
  {
   "cell_type": "code",
   "execution_count": 1,
   "metadata": {
    "collapsed": true
   },
   "outputs": [],
   "source": [
    "# These are all the modules we'll be using later. Make sure you can import them\n",
    "# before proceeding further.\n",
    "from __future__ import print_function\n",
    "import matplotlib.pyplot as plt\n",
    "import numpy as np\n",
    "import os\n",
    "import sys\n",
    "import tarfile\n",
    "from IPython.display import display, Image\n",
    "from scipy import ndimage\n",
    "from sklearn.linear_model import LogisticRegression\n",
    "from six.moves.urllib.request import urlretrieve\n",
    "from six.moves import cPickle as pickle\n",
    "from time import time\n",
    "\n",
    "# Config the matplotlib backend as plotting inline in IPython\n",
    "%matplotlib inline"
   ]
  },
  {
   "cell_type": "markdown",
   "metadata": {},
   "source": [
    "First, the dataset to our local machine. The data consists of characters rendered in a variety of fonts on a 28x28 image. The labels are limited to 'A' through 'J' (10 classes). The training set has about 500k and the testset 19000 labeled examples. Given these sizes, it should be possible to train models quickly on any machine."
   ]
  },
  {
   "cell_type": "code",
   "execution_count": 2,
   "metadata": {},
   "outputs": [
    {
     "name": "stdout",
     "output_type": "stream",
     "text": [
      "Found and verified .\\notMNIST_large.tar.gz\n",
      "Found and verified .\\notMNIST_small.tar.gz\n"
     ]
    }
   ],
   "source": [
    "url = 'https://commondatastorage.googleapis.com/books1000/'\n",
    "last_percent_reported = None\n",
    "data_root = '.' # Change me to store data elsewhere\n",
    "\n",
    "def download_progress_hook(count, blockSize, totalSize):\n",
    "  \"\"\"A hook to report the progress of a download. This is mostly intended for users with\n",
    "  slow internet connections. Reports every 5% change in download progress.\n",
    "  \"\"\"\n",
    "  global last_percent_reported\n",
    "  percent = int(count * blockSize * 100 / totalSize)\n",
    "\n",
    "  if last_percent_reported != percent:\n",
    "    if percent % 5 == 0:\n",
    "      sys.stdout.write(\"%s%%\" % percent)\n",
    "      sys.stdout.flush()\n",
    "    else:\n",
    "      sys.stdout.write(\".\")\n",
    "      sys.stdout.flush()\n",
    "      \n",
    "    last_percent_reported = percent\n",
    "        \n",
    "def maybe_download(filename, expected_bytes, force=False):\n",
    "  \"\"\"Download a file if not present, and make sure it's the right size.\"\"\"\n",
    "  dest_filename = os.path.join(data_root, filename)\n",
    "  if force or not os.path.exists(dest_filename):\n",
    "    print('Attempting to download:', filename) \n",
    "    filename, _ = urlretrieve(url + filename, dest_filename, reporthook=download_progress_hook)\n",
    "    print('\\nDownload Complete!')\n",
    "  statinfo = os.stat(dest_filename)\n",
    "  if statinfo.st_size == expected_bytes:\n",
    "    print('Found and verified', dest_filename)\n",
    "  else:\n",
    "    raise Exception(\n",
    "      'Failed to verify ' + dest_filename + '. Can you get to it with a browser?')\n",
    "  return dest_filename\n",
    "\n",
    "train_filename = maybe_download('notMNIST_large.tar.gz', 247336696)\n",
    "test_filename = maybe_download('notMNIST_small.tar.gz', 8458043)"
   ]
  },
  {
   "cell_type": "markdown",
   "metadata": {},
   "source": [
    "Extract the dataset from the compressed .tar.gz file. This should give you a set of directories, labeled A through J."
   ]
  },
  {
   "cell_type": "code",
   "execution_count": 3,
   "metadata": {},
   "outputs": [
    {
     "name": "stdout",
     "output_type": "stream",
     "text": [
      ".\\notMNIST_large already present - Skipping extraction of .\\notMNIST_large.tar.gz.\n",
      "['.\\\\notMNIST_large\\\\A', '.\\\\notMNIST_large\\\\B', '.\\\\notMNIST_large\\\\C', '.\\\\notMNIST_large\\\\D', '.\\\\notMNIST_large\\\\E', '.\\\\notMNIST_large\\\\F', '.\\\\notMNIST_large\\\\G', '.\\\\notMNIST_large\\\\H', '.\\\\notMNIST_large\\\\I', '.\\\\notMNIST_large\\\\J']\n",
      ".\\notMNIST_small already present - Skipping extraction of .\\notMNIST_small.tar.gz.\n",
      "['.\\\\notMNIST_small\\\\A', '.\\\\notMNIST_small\\\\B', '.\\\\notMNIST_small\\\\C', '.\\\\notMNIST_small\\\\D', '.\\\\notMNIST_small\\\\E', '.\\\\notMNIST_small\\\\F', '.\\\\notMNIST_small\\\\G', '.\\\\notMNIST_small\\\\H', '.\\\\notMNIST_small\\\\I', '.\\\\notMNIST_small\\\\J']\n"
     ]
    }
   ],
   "source": [
    "num_classes = 10\n",
    "np.random.seed(133)\n",
    "\n",
    "def maybe_extract(filename, force=False):\n",
    "  root = os.path.splitext(os.path.splitext(filename)[0])[0]  # remove .tar.gz\n",
    "  if os.path.isdir(root) and not force:\n",
    "    # You may override by setting force=True.\n",
    "    print('%s already present - Skipping extraction of %s.' % (root, filename))\n",
    "  else:\n",
    "    print('Extracting data for %s. This may take a while. Please wait.' % root)\n",
    "    tar = tarfile.open(filename)\n",
    "    sys.stdout.flush()\n",
    "    tar.extractall(data_root)\n",
    "    tar.close()\n",
    "  data_folders = [\n",
    "    os.path.join(root, d) for d in sorted(os.listdir(root))\n",
    "    if os.path.isdir(os.path.join(root, d))]\n",
    "  if len(data_folders) != num_classes:\n",
    "    raise Exception(\n",
    "      'Expected %d folders, one per class. Found %d instead.' % (\n",
    "        num_classes, len(data_folders)))\n",
    "  print(data_folders)\n",
    "  return data_folders\n",
    "  \n",
    "train_folders = maybe_extract(train_filename)\n",
    "test_folders = maybe_extract(test_filename)"
   ]
  },
  {
   "cell_type": "markdown",
   "metadata": {},
   "source": [
    "Problem 1\n",
    "Let's take a peek at some of the data to make sure it looks sensible. Each exemplar should be an image of a character A through J rendered in a different font. Display a sample of the images that we just downloaded. Hint: you can use the package IPython.display."
   ]
  },
  {
   "cell_type": "code",
   "execution_count": 4,
   "metadata": {},
   "outputs": [
    {
     "name": "stdout",
     "output_type": "stream",
     "text": [
      ".\\notMNIST_large\\A a2F6b28udHRm.png\n"
     ]
    },
    {
     "data": {
      "image/png": "[encoded data removed]",
      "text/plain": [
       "<IPython.core.display.Image object>"
      ]
     },
     "metadata": {},
     "output_type": "display_data"
    },
    {
     "name": "stdout",
     "output_type": "stream",
     "text": [
      ".\\notMNIST_large\\A a2FkZW4udHRm.png\n"
     ]
    },
    {
     "data": {
      "image/png": "[encoded data removed]",
      "text/plain": [
       "<IPython.core.display.Image object>"
      ]
     },
     "metadata": {},
     "output_type": "display_data"
    },
    {
     "name": "stdout",
     "output_type": "stream",
     "text": [
      ".\\notMNIST_large\\B a2F6b28udHRm.png\n"
     ]
    },
    {
     "data": {
      "image/png": "[encoded data removed]",
      "text/plain": [
       "<IPython.core.display.Image object>"
      ]
     },
     "metadata": {},
     "output_type": "display_data"
    },
    {
     "name": "stdout",
     "output_type": "stream",
     "text": [
      ".\\notMNIST_large\\B a2FkZW4udHRm.png\n"
     ]
    },
    {
     "data": {
      "image/png": "[encoded data removed]",
      "text/plain": [
       "<IPython.core.display.Image object>"
      ]
     },
     "metadata": {},
     "output_type": "display_data"
    }
   ],
   "source": [
    "#loop for number of training folders to sample\n",
    "folder_samples = 2\n",
    "for i in range(0,folder_samples):\n",
    "    #Assign folder path name from training folder list\n",
    "    path_name_str = train_folders[i]\n",
    "    #Define the sample images quality from each folder to display\n",
    "    image_samples = 2\n",
    "    #Define directory list in the training folder\n",
    "    file_name_list = os.listdir(path_name_str)\n",
    "    #loop to display the sample images...must start at one(1)\n",
    "    for j in range(1,(image_samples+1)):\n",
    "        #Define file name string from list\n",
    "        file_name_str = file_name_list[j]\n",
    "        #Print the image path and file name\n",
    "        print(path_name_str, file_name_str)\n",
    "        #Display images from path name and file name string concatenation\n",
    "        display(Image(path_name_str+'\\\\'+file_name_str))\n",
    "\n"
   ]
  },
  {
   "cell_type": "code",
   "execution_count": 5,
   "metadata": {},
   "outputs": [
    {
     "name": "stdout",
     "output_type": "stream",
     "text": [
      ".\\notMNIST_small\\A MDRiXzA4LnR0Zg==.png\n"
     ]
    },
    {
     "data": {
      "image/png": "[encoded data removed]",
      "text/plain": [
       "<IPython.core.display.Image object>"
      ]
     },
     "metadata": {},
     "output_type": "display_data"
    },
    {
     "name": "stdout",
     "output_type": "stream",
     "text": [
      ".\\notMNIST_small\\A MjAwcHJvb2Ztb29uc2hpbmUgcmVtaXgudHRm.png\n"
     ]
    },
    {
     "data": {
      "image/png": "[encoded data removed]",
      "text/plain": [
       "<IPython.core.display.Image object>"
      ]
     },
     "metadata": {},
     "output_type": "display_data"
    },
    {
     "name": "stdout",
     "output_type": "stream",
     "text": [
      ".\\notMNIST_small\\B MDRiXzA4LnR0Zg==.png\n"
     ]
    },
    {
     "data": {
      "image/png": "[encoded data removed]",
      "text/plain": [
       "<IPython.core.display.Image object>"
      ]
     },
     "metadata": {},
     "output_type": "display_data"
    },
    {
     "name": "stdout",
     "output_type": "stream",
     "text": [
      ".\\notMNIST_small\\B MjAwcHJvb2Ztb29uc2hpbmUgcmVtaXgudHRm.png\n"
     ]
    },
    {
     "data": {
      "image/png": "[encoded data removed]",
      "text/plain": [
       "<IPython.core.display.Image object>"
      ]
     },
     "metadata": {},
     "output_type": "display_data"
    }
   ],
   "source": [
    "#Define number of folders to sample\n",
    "folder_samples = 2\n",
    "#loop for number of test folders to sample\n",
    "for i in range(0,folder_samples):\n",
    "    #Assign folder path name from test folder list\n",
    "    path_name_str = test_folders[i]\n",
    "    #Define the sample images quality from each folder to display\n",
    "    image_samples = 2\n",
    "    #Define directory list in the training folder\n",
    "    file_name_list = os.listdir(path_name_str)\n",
    "    #loop to display the sample images...must start at one(1)\n",
    "    for j in range(1,(image_samples+1)):\n",
    "        #Define file name string from list\n",
    "        file_name_str = file_name_list[j]\n",
    "        #Print the image path and file name\n",
    "        print(path_name_str, file_name_str)\n",
    "        #Display images from path name and file name string concatenation\n",
    "        display(Image(path_name_str+'\\\\'+file_name_str))\n",
    "\n"
   ]
  },
  {
   "cell_type": "markdown",
   "metadata": {},
   "source": [
    "Now let's load the data in a more manageable format. Since, depending on your computer setup you might not be able to fit it all in memory, we'll load each class into a separate dataset, store them on disk and curate them independently. Later we'll merge them into a single dataset of manageable size. We'll convert the entire dataset into a 3D array (image index, x, y) of floating point values, normalized to have approximately zero mean and standard deviation ~0.5 to make training easier down the road. A few images might not be readable, we'll just skip them."
   ]
  },
  {
   "cell_type": "code",
   "execution_count": 4,
   "metadata": {},
   "outputs": [
    {
     "name": "stdout",
     "output_type": "stream",
     "text": [
      ".\\notMNIST_large\\A.pickle already present - Skipping pickling.\n",
      ".\\notMNIST_large\\B.pickle already present - Skipping pickling.\n",
      ".\\notMNIST_large\\C.pickle already present - Skipping pickling.\n",
      ".\\notMNIST_large\\D.pickle already present - Skipping pickling.\n",
      ".\\notMNIST_large\\E.pickle already present - Skipping pickling.\n",
      ".\\notMNIST_large\\F.pickle already present - Skipping pickling.\n",
      ".\\notMNIST_large\\G.pickle already present - Skipping pickling.\n",
      ".\\notMNIST_large\\H.pickle already present - Skipping pickling.\n",
      ".\\notMNIST_large\\I.pickle already present - Skipping pickling.\n",
      ".\\notMNIST_large\\J.pickle already present - Skipping pickling.\n",
      ".\\notMNIST_small\\A.pickle already present - Skipping pickling.\n",
      ".\\notMNIST_small\\B.pickle already present - Skipping pickling.\n",
      ".\\notMNIST_small\\C.pickle already present - Skipping pickling.\n",
      ".\\notMNIST_small\\D.pickle already present - Skipping pickling.\n",
      ".\\notMNIST_small\\E.pickle already present - Skipping pickling.\n",
      ".\\notMNIST_small\\F.pickle already present - Skipping pickling.\n",
      ".\\notMNIST_small\\G.pickle already present - Skipping pickling.\n",
      ".\\notMNIST_small\\H.pickle already present - Skipping pickling.\n",
      ".\\notMNIST_small\\I.pickle already present - Skipping pickling.\n",
      ".\\notMNIST_small\\J.pickle already present - Skipping pickling.\n"
     ]
    }
   ],
   "source": [
    "image_size = 28  # Pixel width and height.\n",
    "pixel_depth = 255.0  # Number of levels per pixel.\n",
    "\n",
    "def load_letter(folder, min_num_images):\n",
    "  \"\"\"Load the data for a single letter label.\"\"\"\n",
    "  image_files = os.listdir(folder)\n",
    "  #Establish dataset np.array dimensions\n",
    "  dataset = np.ndarray(shape=(len(image_files), image_size, image_size),\n",
    "                         dtype=np.float32)\n",
    "  print(folder)\n",
    "  num_images = 0\n",
    "  for image in image_files:\n",
    "    image_file = os.path.join(folder, image)\n",
    "    try:\n",
    "      image_data = (ndimage.imread(image_file).astype(float) - \n",
    "                    pixel_depth / 2) / pixel_depth\n",
    "      if image_data.shape != (image_size, image_size):\n",
    "        raise Exception('Unexpected image shape: %s' % str(image_data.shape))\n",
    "      dataset[num_images, :, :] = image_data\n",
    "      num_images = num_images + 1\n",
    "    except IOError as e:\n",
    "      print('Could not read:', image_file, ':', e, '- it\\'s ok, skipping.')\n",
    "    \n",
    "  dataset = dataset[0:num_images, :, :]\n",
    "  if num_images < min_num_images:\n",
    "    raise Exception('Many fewer images than expected: %d < %d' %\n",
    "                    (num_images, min_num_images))\n",
    "    \n",
    "  print('Full dataset tensor:', dataset.shape)\n",
    "  print('Mean:', np.mean(dataset))\n",
    "  print('Standard deviation:', np.std(dataset))\n",
    "  return dataset\n",
    "        \n",
    "def maybe_pickle(data_folders, min_num_images_per_class, force=False):\n",
    "  dataset_names = []\n",
    "  for folder in data_folders:\n",
    "    set_filename = folder + '.pickle'\n",
    "    dataset_names.append(set_filename)\n",
    "    if os.path.exists(set_filename) and not force:\n",
    "      # You may override by setting force=True.\n",
    "      print('%s already present - Skipping pickling.' % set_filename)\n",
    "    else:\n",
    "      print('Pickling %s.' % set_filename)\n",
    "      dataset = load_letter(folder, min_num_images_per_class)\n",
    "      try:\n",
    "        with open(set_filename, 'wb') as f:\n",
    "          pickle.dump(dataset, f, pickle.HIGHEST_PROTOCOL)\n",
    "      except Exception as e:\n",
    "        print('Unable to save data to', set_filename, ':', e)\n",
    "  \n",
    "  return dataset_names\n",
    "\n",
    "train_datasets = maybe_pickle(train_folders, 45000)\n",
    "test_datasets = maybe_pickle(test_folders, 1800)"
   ]
  },
  {
   "cell_type": "markdown",
   "metadata": {},
   "source": [
    "Verifying that the data still looks good. Displaying a sample of the labels and images from the ndarray using matplotlib.pyplot."
   ]
  },
  {
   "cell_type": "code",
   "execution_count": 7,
   "metadata": {},
   "outputs": [
    {
     "name": "stdout",
     "output_type": "stream",
     "text": [
      "Training Dataset Name .\\notMNIST_large\\H.pickle with Image Label 0\n",
      "Training Dataset Name .\\notMNIST_large\\H.pickle with Image Label 1\n",
      "Training Dataset Name .\\notMNIST_large\\I.pickle with Image Label 0\n",
      "Training Dataset Name .\\notMNIST_large\\I.pickle with Image Label 1\n"
     ]
    },
    {
     "data": {
      "image/png": "[encoded data removed]",
      "text/plain": [
       "<matplotlib.figure.Figure at 0x1299b9cb518>"
      ]
     },
     "metadata": {},
     "output_type": "display_data"
    },
    {
     "data": {
      "image/png": "[encoded data removed]",
      "text/plain": [
       "<matplotlib.figure.Figure at 0x1299bd07f98>"
      ]
     },
     "metadata": {},
     "output_type": "display_data"
    },
    {
     "data": {
      "image/png": "[encoded data removed]",
      "text/plain": [
       "<matplotlib.figure.Figure at 0x1299bceba20>"
      ]
     },
     "metadata": {},
     "output_type": "display_data"
    },
    {
     "data": {
      "image/png": "[encoded data removed]",
      "text/plain": [
       "<matplotlib.figure.Figure at 0x1299c724860>"
      ]
     },
     "metadata": {},
     "output_type": "display_data"
    }
   ],
   "source": [
    "#Define number of datasets to sample\n",
    "dataset_samples = 2\n",
    "#loop for number of training datasets to sample\n",
    "for i in range(7,9):\n",
    "    #Open pickle file to 'rb' read instruction \n",
    "    pickle_image_file = open(train_datasets[i],'rb')\n",
    "    #Recover 3D nparray of image\n",
    "    normalized_3D_image_nparray = pickle.load(pickle_image_file)\n",
    "    #Define the sample images quality from each folder to display\n",
    "    image_samples = 2\n",
    "    #loop to display the sample image\n",
    "    for j in range(0,image_samples):\n",
    "        #Convert 3D nparray to 2D nparray for displaying images\n",
    "        normalized_2D_image_nparray =  normalized_3D_image_nparray[j,0:28,0:28]\n",
    "        #Display dataset name, image label and plot image file\n",
    "        print('Training Dataset Name {} with Image Label {}'.format(train_datasets[i],j))\n",
    "        plt.figure()\n",
    "        plt.imshow(normalized_2D_image_nparray)\n",
    "\n"
   ]
  },
  {
   "cell_type": "code",
   "execution_count": 8,
   "metadata": {},
   "outputs": [
    {
     "name": "stdout",
     "output_type": "stream",
     "text": [
      "Test Dataset Name .\\notMNIST_small\\H.pickle with Image Label 0\n",
      "Test Dataset Name .\\notMNIST_small\\H.pickle with Image Label 1\n",
      "Test Dataset Name .\\notMNIST_small\\I.pickle with Image Label 0\n",
      "Test Dataset Name .\\notMNIST_small\\I.pickle with Image Label 1\n"
     ]
    },
    {
     "data": {
      "image/png": "[encoded data removed]",
      "text/plain": [
       "<matplotlib.figure.Figure at 0x1299b9cb5c0>"
      ]
     },
     "metadata": {},
     "output_type": "display_data"
    },
    {
     "data": {
      "image/png": "[encoded data removed]",
      "text/plain": [
       "<matplotlib.figure.Figure at 0x1299baa92e8>"
      ]
     },
     "metadata": {},
     "output_type": "display_data"
    },
    {
     "data": {
      "image/png": "[encoded data removed]",
      "text/plain": [
       "<matplotlib.figure.Figure at 0x1299bc2a278>"
      ]
     },
     "metadata": {},
     "output_type": "display_data"
    },
    {
     "data": {
      "image/png": "[encoded data removed]",
      "text/plain": [
       "<matplotlib.figure.Figure at 0x1299bc61eb8>"
      ]
     },
     "metadata": {},
     "output_type": "display_data"
    }
   ],
   "source": [
    "#Define number of datasets to sample\n",
    "dataset_samples = 2\n",
    "#loop for number of training datasets to sample\n",
    "for i in range(7,9):\n",
    "    #Open pickle file to 'rb' read instruction\n",
    "    pickle_image_file = open(test_datasets[i],'rb')\n",
    "    #Recover 3D nparray of image\n",
    "    normalized_3D_image_nparray = pickle.load(pickle_image_file)\n",
    "    #Define the sample images quality from each folder to display\n",
    "    image_samples = 2\n",
    "    #loop to display the sample image\n",
    "    for j in range(0,image_samples):\n",
    "        #Convert 3D nparray to 2D nparray for displaying images\n",
    "        normalized_2D_image_nparray =  normalized_3D_image_nparray[j,0:28,0:28]\n",
    "        #Display dataset name, image label and plot image file\n",
    "        print('Test Dataset Name {} with Image Label {}'.format(test_datasets[i],j))\n",
    "        plt.figure()\n",
    "        plt.imshow(normalized_2D_image_nparray)"
   ]
  },
  {
   "cell_type": "markdown",
   "metadata": {},
   "source": [
    "Verify data are balanced across classes with training and test datasets bar charts"
   ]
  },
  {
   "cell_type": "code",
   "execution_count": 7,
   "metadata": {},
   "outputs": [
    {
     "data": {
      "text/plain": [
       "([<matplotlib.axis.XTick at 0x1b9bfb81518>,\n",
       "  <matplotlib.axis.XTick at 0x1b9a65f2cf8>,\n",
       "  <matplotlib.axis.XTick at 0x1b9bfb6b518>,\n",
       "  <matplotlib.axis.XTick at 0x1b9b63f2668>,\n",
       "  <matplotlib.axis.XTick at 0x1b9b63f2cc0>,\n",
       "  <matplotlib.axis.XTick at 0x1b9b63fc358>,\n",
       "  <matplotlib.axis.XTick at 0x1b9b63fc9e8>,\n",
       "  <matplotlib.axis.XTick at 0x1b9b64020b8>,\n",
       "  <matplotlib.axis.XTick at 0x1b9b6402748>,\n",
       "  <matplotlib.axis.XTick at 0x1b9b6402dd8>],\n",
       " <a list of 10 Text xticklabel objects>)"
      ]
     },
     "execution_count": 7,
     "metadata": {},
     "output_type": "execute_result"
    },
    {
     "data": {
      "image/png": "[encoded data removed]",
      "text/plain": [
       "<matplotlib.figure.Figure at 0x1b9a665a630>"
      ]
     },
     "metadata": {},
     "output_type": "display_data"
    }
   ],
   "source": [
    "#Establish dataset to visualize\n",
    "datesets=[]\n",
    "datasets = train_datasets\n",
    "#Establish a list for the number of images in each training dataset class\n",
    "dataset_image_num_list = []\n",
    "#loop for each class in the training dataset\n",
    "for i in range(len(datasets)):\n",
    "    #Open pickle file to 'rb' read instruction\n",
    "    pickle_image_file = open(datasets[i],'rb')\n",
    "    #Recover 3D nparray of image\n",
    "    normalized_3D_image_nparray = pickle.load(pickle_image_file)\n",
    "    class_dataset_shape = normalized_3D_image_nparray.shape\n",
    "    dataset_image_num = class_dataset_shape[0]\n",
    "    #update list with the number of images in the class\n",
    "    dataset_image_num_list.append(dataset_image_num)\n",
    "    \n",
    "plt.bar(range(len(datasets)),dataset_image_num_list, align='center')\n",
    "plt.title('Training Dataset Class Quantities')\n",
    "plt.xticks(range(len(datasets)),datasets,rotation='vertical')\n",
    "    "
   ]
  },
  {
   "cell_type": "code",
   "execution_count": 8,
   "metadata": {},
   "outputs": [
    {
     "data": {
      "text/plain": [
       "([<matplotlib.axis.XTick at 0x1b9a64db860>,\n",
       "  <matplotlib.axis.XTick at 0x1b9b63fca90>,\n",
       "  <matplotlib.axis.XTick at 0x1b9bfb7b240>,\n",
       "  <matplotlib.axis.XTick at 0x1b9b7d205f8>,\n",
       "  <matplotlib.axis.XTick at 0x1b9b7d20c88>,\n",
       "  <matplotlib.axis.XTick at 0x1b9b7d2b358>,\n",
       "  <matplotlib.axis.XTick at 0x1b9b7d2b9e8>,\n",
       "  <matplotlib.axis.XTick at 0x1b9b7d300b8>,\n",
       "  <matplotlib.axis.XTick at 0x1b9b7d30748>,\n",
       "  <matplotlib.axis.XTick at 0x1b9b7d30dd8>],\n",
       " <a list of 10 Text xticklabel objects>)"
      ]
     },
     "execution_count": 8,
     "metadata": {},
     "output_type": "execute_result"
    },
    {
     "data": {
      "image/png": "[encoded data removed]",
      "text/plain": [
       "<matplotlib.figure.Figure at 0x1b9b6408978>"
      ]
     },
     "metadata": {},
     "output_type": "display_data"
    }
   ],
   "source": [
    "#Establish dataset to visualize\n",
    "datesets=[]\n",
    "datasets = test_datasets\n",
    "#Establish a list for the number of images in each test dataset class\n",
    "dataset_image_num_list = []\n",
    "#loop for each class in the training dataset\n",
    "for i in range(len(datasets)):\n",
    "    #Open pickle file to 'rb' read instruction\n",
    "    pickle_image_file = open(datasets[i],'rb')\n",
    "    #Recover 3D nparray of image\n",
    "    normalized_3D_image_nparray = pickle.load(pickle_image_file)\n",
    "    class_dataset_shape = normalized_3D_image_nparray.shape\n",
    "    dataset_image_num = class_dataset_shape[0]\n",
    "    #update list with the number of images in the class\n",
    "    dataset_image_num_list.append(dataset_image_num)\n",
    "    \n",
    "plt.bar(range(len(datasets)),dataset_image_num_list, align='center')\n",
    "plt.title('Test Dataset Class Quantities')\n",
    "plt.xticks(range(len(datasets)),datasets,rotation='vertical')"
   ]
  },
  {
   "cell_type": "markdown",
   "metadata": {},
   "source": [
    "Merge and prune the training data as needed. Depending on your computer setup, you might not be able to fit it all in memory, and you can tune train_size as needed. The labels will be stored into a separate array of integers 0 through 9.\n",
    "Also create a validation dataset for hyperparameter tuning."
   ]
  },
  {
   "cell_type": "code",
   "execution_count": 5,
   "metadata": {},
   "outputs": [
    {
     "name": "stdout",
     "output_type": "stream",
     "text": [
      "Training: (200000, 28, 28) (200000,)\n",
      "Validation: (10000, 28, 28) (10000,)\n",
      "Testing: (10000, 28, 28) (10000,)\n"
     ]
    }
   ],
   "source": [
    "def make_arrays(nb_rows, img_size):\n",
    "  if nb_rows:\n",
    "    dataset = np.ndarray((nb_rows, img_size, img_size), dtype=np.float32)\n",
    "    labels = np.ndarray(nb_rows, dtype=np.int32)\n",
    "  else:\n",
    "    dataset, labels = None, None\n",
    "  return dataset, labels\n",
    "\n",
    "def merge_datasets(pickle_files, train_size, valid_size=0):\n",
    "  num_classes = len(pickle_files)\n",
    "  #Define nparray dimensions for datasets\n",
    "  valid_dataset, valid_labels = make_arrays(valid_size, image_size)\n",
    "  train_dataset, train_labels = make_arrays(train_size, image_size)\n",
    "  #floor division for whole number quotient\n",
    "  vsize_per_class = valid_size // num_classes\n",
    "  tsize_per_class = train_size // num_classes\n",
    "    \n",
    "  start_v, start_t = 0, 0\n",
    "  end_v, end_t = vsize_per_class, tsize_per_class\n",
    "  end_l = vsize_per_class+tsize_per_class\n",
    "  for label, pickle_file in enumerate(pickle_files):       \n",
    "    try:\n",
    "      with open(pickle_file, 'rb') as f:\n",
    "        letter_set = pickle.load(f)\n",
    "        # let's shuffle the letters to have random validation and training set\n",
    "        np.random.shuffle(letter_set)\n",
    "        if valid_dataset is not None:\n",
    "          #Splice top images from nparray per valid class size\n",
    "          valid_letter = letter_set[:vsize_per_class, :, :]\n",
    "          #Update valid dataset nparray with spliced image values \n",
    "          valid_dataset[start_v:end_v, :, :] = valid_letter\n",
    "          #Update valid label nparray with spliced image labels\n",
    "          valid_labels[start_v:end_v] = label\n",
    "          #Increment start and end indices by valid class sizes\n",
    "          start_v += vsize_per_class\n",
    "          end_v += vsize_per_class\n",
    "        #Splice next images from nparray per training class size           \n",
    "        train_letter = letter_set[vsize_per_class:end_l, :, :]\n",
    "        #Update training dataset nparray with spliced image values\n",
    "        train_dataset[start_t:end_t, :, :] = train_letter\n",
    "        #Update training label nparray with spliced image labels\n",
    "        train_labels[start_t:end_t] = label\n",
    "        #Increment start and end indices by training class sizes\n",
    "        start_t += tsize_per_class\n",
    "        end_t += tsize_per_class\n",
    "    except Exception as e:\n",
    "      print('Unable to process data from', pickle_file, ':', e)\n",
    "      raise\n",
    "    \n",
    "  return valid_dataset, valid_labels, train_dataset, train_labels\n",
    "            \n",
    "            \n",
    "train_size = 200000\n",
    "valid_size = 10000\n",
    "test_size = 10000\n",
    "\n",
    "valid_dataset, valid_labels, train_dataset, train_labels = merge_datasets(\n",
    "  train_datasets, train_size, valid_size)\n",
    "_, _, test_dataset, test_labels = merge_datasets(test_datasets, test_size)\n",
    "\n",
    "print('Training:', train_dataset.shape, train_labels.shape)\n",
    "print('Validation:', valid_dataset.shape, valid_labels.shape)\n",
    "print('Testing:', test_dataset.shape, test_labels.shape)"
   ]
  },
  {
   "cell_type": "code",
   "execution_count": 10,
   "metadata": {},
   "outputs": [
    {
     "data": {
      "text/plain": [
       "[<matplotlib.lines.Line2D at 0x1b9a4dd2d30>]"
      ]
     },
     "execution_count": 10,
     "metadata": {},
     "output_type": "execute_result"
    },
    {
     "data": {
      "image/png": "[encoded data removed]",
      "text/plain": [
       "<matplotlib.figure.Figure at 0x1b9a4dd2e10>"
      ]
     },
     "metadata": {},
     "output_type": "display_data"
    }
   ],
   "source": [
    "plt.title('Training Label Scatter Plot')\n",
    "plt.plot(np.arange(1,(len(train_labels)+1)),train_labels,\"o\")"
   ]
  },
  {
   "cell_type": "code",
   "execution_count": 11,
   "metadata": {},
   "outputs": [
    {
     "data": {
      "text/plain": [
       "[<matplotlib.lines.Line2D at 0x1b9be80b7f0>]"
      ]
     },
     "execution_count": 11,
     "metadata": {},
     "output_type": "execute_result"
    },
    {
     "data": {
      "image/png": "[encoded data removed]",
      "text/plain": [
       "<matplotlib.figure.Figure at 0x1b9be80b390>"
      ]
     },
     "metadata": {},
     "output_type": "display_data"
    }
   ],
   "source": [
    "plt.title('Test Label Scatter Plot')\n",
    "plt.plot(np.arange(1,(len(test_labels)+1)),test_labels,\"o\")"
   ]
  },
  {
   "cell_type": "code",
   "execution_count": 6,
   "metadata": {
    "scrolled": true
   },
   "outputs": [
    {
     "name": "stdout",
     "output_type": "stream",
     "text": [
      "Completed in 0.0291 hours\n",
      "125 Duplicate A Images\n"
     ]
    }
   ],
   "source": [
    "\n",
    "#Compare Zero(A) classes between training and test datasets\n",
    "training_index_list_A = []\n",
    "duplicate_count_A = 0\n",
    "start = time()\n",
    "for i in range(0,20000):\n",
    "    for j in range(0,1000):\n",
    "        if (np.array_equal(train_dataset[i,0:28,0:28],test_dataset[j,0:28,0:28])):\n",
    "            training_index_list_A.append(i)\n",
    "            duplicate_count_A +=1\n",
    "end = time()\n",
    "print('Completed in {:.4f} hours'.format((end-start)/3600.0))\n",
    "print('{} Duplicate A Images'.format(duplicate_count_A))\n",
    "\n",
    "    \n",
    "    "
   ]
  },
  {
   "cell_type": "code",
   "execution_count": 46,
   "metadata": {},
   "outputs": [
    {
     "name": "stdout",
     "output_type": "stream",
     "text": [
      "A Duplicate Index Test List [430, 144, 129, 388, 360, 918, 549, 546, 98, 865, 15, 411, 802, 457, 584, 509, 128, 669, 975, 141, 719, 832, 254, 475, 215, 293, 584, 345, 674, 609, 585, 845, 457, 424, 970, 287, 773, 464, 374, 394, 429, 334, 375, 55, 388, 525, 929, 469, 785, 516, 970, 0, 53, 146, 766, 952, 80, 290, 241, 227, 226, 967, 388, 147, 785, 922, 10, 146, 244, 635, 668, 245, 214, 500, 159, 0, 727, 52, 724, 460, 418, 614, 28, 270, 660, 8, 0, 245, 284, 833, 584, 838, 247, 256, 368, 388, 207, 651, 984, 773, 52, 127, 404, 631, 175, 782, 726, 779, 620, 623, 682, 353, 545, 929, 3, 742, 623, 57, 902, 298, 975, 917, 569, 969, 652]\n"
     ]
    }
   ],
   "source": [
    "print('A Duplicate Index Test List',test_index_list_A)"
   ]
  },
  {
   "cell_type": "markdown",
   "metadata": {},
   "source": [
    "[With for in loop break] Completed in 0.2435 hours\n",
    "120 Duplicate A Images"
   ]
  },
  {
   "cell_type": "code",
   "execution_count": 51,
   "metadata": {},
   "outputs": [
    {
     "data": {
      "image/png": "[encoded data removed]",
      "text/plain": [
       "<matplotlib.figure.Figure at 0x2dbe2baa518>"
      ]
     },
     "metadata": {},
     "output_type": "display_data"
    },
    {
     "data": {
      "image/png": "[encoded data removed]",
      "text/plain": [
       "<matplotlib.figure.Figure at 0x2dbed5f7208>"
      ]
     },
     "metadata": {},
     "output_type": "display_data"
    },
    {
     "data": {
      "image/png": "[encoded data removed]",
      "text/plain": [
       "<matplotlib.figure.Figure at 0x2dbed646668>"
      ]
     },
     "metadata": {},
     "output_type": "display_data"
    },
    {
     "data": {
      "image/png": "[encoded data removed]",
      "text/plain": [
       "<matplotlib.figure.Figure at 0x2dbed6bdbe0>"
      ]
     },
     "metadata": {},
     "output_type": "display_data"
    }
   ],
   "source": [
    "image_samples = 2\n",
    "for j in range(0,image_samples):\n",
    "    #Display dataset name, image label and plot image file\n",
    "    plt.figure()\n",
    "    plt.title('training dataset index value')\n",
    "    plt.imshow(train_dataset[training_index_list_A[j],0:28,0:28])\n",
    "    plt.figure()\n",
    "    plt.title('test dataset index value')\n",
    "    plt.imshow(test_dataset[test_index_list_A[j],0:28,0:28])"
   ]
  },
  {
   "cell_type": "code",
   "execution_count": 7,
   "metadata": {},
   "outputs": [
    {
     "name": "stdout",
     "output_type": "stream",
     "text": [
      "A Class Training Duplication Index List [285, 344, 363, 381, 420, 555, 1274, 1283, 1299, 1405, 1555, 2604, 2738, 3326, 3643, 3720, 3861, 4005, 4089, 4483, 4537, 5016, 5067, 5297, 5310, 5580, 5636, 5767, 5837, 5878, 5889, 6182, 6362, 6367, 6901, 6970, 7006, 7142, 7603, 7798, 7934, 8117, 8705, 8766, 8913, 8930, 8983, 9001, 9044, 9055, 9546, 9655, 9676, 9764, 9838, 9851, 10467, 10532, 10742, 11085, 11216, 11342, 11390, 11465, 11658, 11883, 12002, 12055, 12139, 12313, 12523, 12573, 12637, 12744, 12986, 13008, 13027, 13043, 13091, 13321, 13328, 13737, 13815, 13815, 13879, 14839, 14874, 15058, 15169, 15410, 15416, 15666, 15995, 16186, 16354, 16838, 16880, 16880, 17000, 17471, 17532, 17555, 17667, 17667, 17683, 17721, 17815, 17815, 17903, 18111, 18329, 18470, 18514, 18743, 19077, 19077, 19483, 19538, 19540, 19552, 19577, 19628, 19682, 19690, 19945]\n",
      "Offset Index [285, 344, 363, 381, 420, 555, 1274, 1283, 1299, 1405, 1555, 2604, 2738, 3326, 3643, 3720, 3861, 4005, 4089, 4483, 4537, 5016, 5067, 5297, 5310, 5580, 5636, 5767, 5837, 5878, 5889, 6182, 6362, 6367, 6901, 6970, 7006, 7142, 7603, 7798, 7934, 8117, 8705, 8766, 8913, 8930, 8983, 9001, 9044, 9055, 9546, 9655, 9676, 9764, 9838, 9851, 10467, 10532, 10742, 11085, 11216, 11342, 11390, 11465, 11658, 11883, 12002, 12055, 12139, 12313, 12523, 12573, 12637, 12744, 12986, 13008, 13027, 13043, 13091, 13321, 13328, 13737, 13815, 13815, 13879, 14839, 14874, 15058, 15169, 15410, 15416, 15666, 15995, 16186, 16354, 16838, 16880, 16880, 17000, 17471, 17532, 17555, 17667, 17667, 17683, 17721, 17815, 17815, 17903, 18111, 18329, 18470, 18514, 18743, 19077, 19077, 19483, 19538, 19540, 19552, 19577, 19628, 19682, 19690, 19945]\n",
      "Completed in 0.0000 hours\n",
      "Sanitized A Dataset: (19880, 28, 28) (19880,)\n"
     ]
    }
   ],
   "source": [
    "\"\"\"\n",
    "Delete duplicate image between training and test datasets in new sanitized class A dataset with np.delete\n",
    "\"\"\"\n",
    "print('A Class Training Duplication Index List',training_index_list_A)\n",
    "\n",
    "# Define temporary  dataset and labels np arrays for image class to address np.delete max index limitation\n",
    "array_size = 20000\n",
    "start_splice = 0\n",
    "end_splice = 20000\n",
    "temp_dataset = np.ndarray((array_size, 28, 28), dtype=np.float32)\n",
    "temp_dataset = train_dataset[start_splice:end_splice,0:28,0:28]\n",
    "temp_labels = np.ndarray(array_size, dtype=np.int32)\n",
    "temp_labels= train_labels[start_splice:end_splice,]\n",
    "\n",
    "# Define offset index list of image class duplicates\n",
    "offset_training_index_list = []\n",
    "index_offset =0\n",
    "\n",
    "if (index_offset != 0):\n",
    "    #Loop for index to offset\n",
    "    for i in range(0,len(training_index_list_A)):\n",
    "        offset_training_index_list.append(training_index_list_A[i]-index_offset)\n",
    "else:\n",
    "    for i in range(0,len(training_index_list_A)):\n",
    "        offset_training_index_list.append(training_index_list_A[i])\n",
    "            \n",
    "print('Offset Index',offset_training_index_list)\n",
    "\n",
    "start = time()\n",
    "# Create new sanitized class dataset without duplicate images\n",
    "sanitized_A_dataset = np.delete(temp_dataset[0:array_size,0:28,0:28],offset_training_index_list,0)\n",
    "# Create new sanitized label array\n",
    "sanitized_A_labels = np.delete(temp_labels[0:array_size,],offset_training_index_list,0)\n",
    "end = time()       \n",
    "\n",
    "print('Completed in {:.4f} hours'.format((end-start)/3600.0))\n",
    "print('Sanitized A Dataset:', sanitized_A_dataset.shape, sanitized_A_labels.shape)\n"
   ]
  },
  {
   "cell_type": "code",
   "execution_count": 8,
   "metadata": {},
   "outputs": [
    {
     "name": "stdout",
     "output_type": "stream",
     "text": [
      "Completed in 0.0289 hours\n",
      "87 Duplicate A Images with Valid Dataset\n",
      "Second Sanitized A Duplicate Index List [372, 516, 767, 768, 793, 798, 1001, 1163, 1204, 1300, 1367, 1775, 1784, 1975, 2651, 2828, 2855, 3047, 3353, 3609, 3632, 3853, 4048, 4116, 4142, 4901, 4918, 5154, 5277, 5666, 6367, 6599, 6688, 6872, 6970, 7384, 7462, 7909, 7933, 8583, 8790, 9103, 9117, 9471, 9650, 9942, 10036, 10217, 10365, 10613, 10635, 10823, 11104, 11413, 11593, 11989, 12073, 12403, 12799, 12805, 12911, 13063, 13193, 13695, 14166, 14514, 14858, 15038, 15051, 15228, 15470, 15971, 16106, 16143, 16251, 16594, 16699, 17023, 17625, 17955, 18261, 18608, 18632, 18779, 18897, 19091, 19445]\n"
     ]
    }
   ],
   "source": [
    "\n",
    "#Compare Zero(A) classes between sanitized training and valid datasets for validation\n",
    "sanitized_second_index_list_A = []\n",
    "sanitized_second_duplicate_count_A = 0\n",
    "array_range = sanitized_A_dataset.shape[0]\n",
    "start = time()\n",
    "for i in range(0,array_range):\n",
    "    for j in range(0,1000):\n",
    "        if (np.array_equal(sanitized_A_dataset[i,0:28,0:28],valid_dataset[j,0:28,0:28])):\n",
    "            sanitized_second_index_list_A.append(i)\n",
    "            sanitized_second_duplicate_count_A +=1\n",
    "end = time()\n",
    "print('Completed in {:.4f} hours'.format((end-start)/3600.0))\n",
    "print('{} Duplicate A Images with Valid Dataset'.format(sanitized_second_duplicate_count_A))\n",
    "print('Second Sanitized A Duplicate Index List',sanitized_second_index_list_A)\n",
    "\n",
    "    \n",
    "    "
   ]
  },
  {
   "cell_type": "code",
   "execution_count": 9,
   "metadata": {},
   "outputs": [
    {
     "name": "stdout",
     "output_type": "stream",
     "text": [
      "Second Sanitized A Duplicate Index List [372, 516, 767, 768, 793, 798, 1001, 1163, 1204, 1300, 1367, 1775, 1784, 1975, 2651, 2828, 2855, 3047, 3353, 3609, 3632, 3853, 4048, 4116, 4142, 4901, 4918, 5154, 5277, 5666, 6367, 6599, 6688, 6872, 6970, 7384, 7462, 7909, 7933, 8583, 8790, 9103, 9117, 9471, 9650, 9942, 10036, 10217, 10365, 10613, 10635, 10823, 11104, 11413, 11593, 11989, 12073, 12403, 12799, 12805, 12911, 13063, 13193, 13695, 14166, 14514, 14858, 15038, 15051, 15228, 15470, 15971, 16106, 16143, 16251, 16594, 16699, 17023, 17625, 17955, 18261, 18608, 18632, 18779, 18897, 19091, 19445]\n",
      "Completed in 0.0000 hours\n",
      "Sanitized A Dataset: (19793, 28, 28) (19793,)\n"
     ]
    }
   ],
   "source": [
    "\"\"\"\n",
    "Delete duplicate image between the sanitized training and valid datasets in a new sanitized class A dataset with np.delete\n",
    "\"\"\"\n",
    "print('Second Sanitized A Duplicate Index List',sanitized_second_index_list_A)\n",
    "first_dataset_size = sanitized_A_dataset.shape[0]\n",
    "start = time()\n",
    "# Create new sanitized class dataset without duplicate images\n",
    "sanitized_second_A_dataset = np.delete(sanitized_A_dataset[0:first_dataset_size,0:28,0:28],sanitized_second_index_list_A,0)\n",
    "# Create new sanitized label array\n",
    "sanitized_second_A_labels = np.delete(sanitized_A_labels[0:first_dataset_size,],sanitized_second_index_list_A,0)\n",
    "end = time()       \n",
    "\n",
    "print('Completed in {:.4f} hours'.format((end-start)/3600.0))\n",
    "print('Sanitized A Dataset:', sanitized_second_A_dataset.shape, sanitized_second_A_labels.shape)\n"
   ]
  },
  {
   "cell_type": "markdown",
   "metadata": {},
   "source": [
    "sanitized_second_A_dataset and sanitized_second_A_labels arrays above are fully sanitized training data with test and \n",
    "valid datasets"
   ]
  },
  {
   "cell_type": "code",
   "execution_count": 10,
   "metadata": {},
   "outputs": [
    {
     "data": {
      "text/plain": [
       "[<matplotlib.lines.Line2D at 0x22d2ba24470>]"
      ]
     },
     "execution_count": 10,
     "metadata": {},
     "output_type": "execute_result"
    },
    {
     "data": {
      "image/png": "[encoded data removed]",
      "text/plain": [
       "<matplotlib.figure.Figure at 0x22d2ba24748>"
      ]
     },
     "metadata": {},
     "output_type": "display_data"
    }
   ],
   "source": [
    "plt.title('Sanitized A Labels Scatter Plot')\n",
    "plt.plot(np.arange(1,(len(sanitized_second_A_labels)+1)),sanitized_second_A_labels,\"o\")"
   ]
  },
  {
   "cell_type": "code",
   "execution_count": 11,
   "metadata": {},
   "outputs": [
    {
     "name": "stdout",
     "output_type": "stream",
     "text": [
      "Completed in 0.0292 hours\n",
      "149 Duplicate B Images\n"
     ]
    }
   ],
   "source": [
    "#Compare one(B) classes between training and test datasets\n",
    "training_index_list_B = []\n",
    "duplicate_count_B = 0\n",
    "start = time()\n",
    "for i in range(20000,40000):\n",
    "    for j in range(1000,2000):\n",
    "        if (np.array_equal(train_dataset[i,0:28,0:28],test_dataset[j,0:28,0:28])):\n",
    "            training_index_list_B.append(i)\n",
    "            duplicate_count_B +=1\n",
    "            break\n",
    "end = time()\n",
    "print('Completed in {:.4f} hours'.format((end-start)/3600.0))\n",
    "print('{} Duplicate B Images'.format(duplicate_count_B))\n",
    "\n",
    "    \n",
    "    "
   ]
  },
  {
   "cell_type": "code",
   "execution_count": 12,
   "metadata": {},
   "outputs": [
    {
     "name": "stdout",
     "output_type": "stream",
     "text": [
      "B Class Training Duplication Index List [20178, 20201, 20396, 20398, 20453, 20484, 20792, 20822, 20974, 21161, 21243, 21260, 21323, 21415, 21572, 21587, 21598, 21713, 21724, 21765, 21847, 21921, 22014, 22041, 22086, 22129, 22165, 22258, 22462, 22499, 22583, 23031, 23080, 23094, 23219, 23253, 23823, 23878, 23948, 24162, 24215, 24232, 24395, 24859, 24930, 24946, 25207, 25261, 25310, 26200, 26262, 26555, 26585, 26586, 26603, 26705, 26916, 27041, 27106, 27307, 27417, 27441, 27497, 27669, 28073, 28173, 28274, 28464, 28484, 28722, 28760, 28776, 28899, 29059, 29084, 29286, 29413, 29622, 29659, 29984, 30212, 30400, 30409, 30453, 30517, 30552, 30565, 30841, 30923, 31105, 31256, 31558, 31667, 31970, 32378, 32582, 32735, 32753, 32761, 33019, 33427, 33451, 33568, 33616, 34009, 34087, 34369, 34416, 34465, 34581, 34710, 35074, 35324, 35446, 35659, 35850, 35899, 35996, 36134, 36388, 36449, 36523, 36594, 36620, 37037, 37173, 37186, 37297, 37343, 37505, 37682, 37866, 37945, 38009, 38074, 38078, 38252, 38510, 38553, 38745, 38897, 39032, 39042, 39285, 39382, 39470, 39644, 39855, 39935]\n",
      "Completed in 0.0000 hours\n",
      "Sanitized B Dataset: (19851, 28, 28) (19851,)\n"
     ]
    }
   ],
   "source": [
    "\"\"\"\n",
    "Delete duplicate image between training and test datasets in new sanitized class B dataset with np.delete\n",
    "\"\"\"\n",
    "print('B Class Training Duplication Index List',training_index_list_B)\n",
    "\n",
    "# Define temporary  dataset and labels np arrays for image class to address np.delete max index limitation\n",
    "array_size = 20000\n",
    "start_splice = 20000\n",
    "end_splice = 40000\n",
    "temp_dataset = np.ndarray((array_size, 28, 28), dtype=np.float32)\n",
    "temp_dataset = train_dataset[start_splice:end_splice,0:28,0:28]\n",
    "temp_labels = np.ndarray(array_size, dtype=np.int32)\n",
    "temp_labels= train_labels[start_splice:end_splice,]\n",
    "\n",
    "# Define offset index list of image class duplicates\n",
    "offset_training_index_list = []\n",
    "index_offset = 20000\n",
    "#Loop for index to offset\n",
    "for i in range(0,len(training_index_list_B)):\n",
    "    offset_training_index_list.append(training_index_list_B[i]-index_offset)\n",
    "\n",
    "    \n",
    "start = time()\n",
    "# Create new sanitized class dataset without duplicate images\n",
    "sanitized_B_dataset = np.delete(temp_dataset[0:array_size,0:28,0:28],offset_training_index_list,0)\n",
    "# Create new sanitized label array\n",
    "sanitized_B_labels = np.delete(temp_labels[0:array_size,],offset_training_index_list,0)\n",
    "end = time()       \n",
    "\n",
    "print('Completed in {:.4f} hours'.format((end-start)/3600.0))\n",
    "print('Sanitized B Dataset:', sanitized_B_dataset.shape, sanitized_B_labels.shape)\n"
   ]
  },
  {
   "cell_type": "code",
   "execution_count": 13,
   "metadata": {},
   "outputs": [
    {
     "name": "stdout",
     "output_type": "stream",
     "text": [
      "Completed in 0.0286 hours\n",
      "104 Duplicate B Images with Valid Dataset\n",
      "Second Sanitized B Duplicate Index List [381, 763, 1363, 2397, 2719, 2860, 3137, 3226, 3381, 3795, 4217, 4437, 4614, 4773, 4901, 4946, 5403, 5460, 5667, 5756, 5870, 6282, 6537, 7032, 7037, 7119, 7241, 7261, 7381, 7381, 7526, 7834, 7918, 8200, 8267, 8270, 8448, 8487, 8882, 8973, 9038, 9211, 9267, 9402, 9650, 9790, 9895, 10232, 10248, 10551, 10818, 10868, 11049, 11174, 11400, 12055, 12080, 12166, 12292, 12346, 12540, 12899, 13004, 13180, 13328, 13511, 13584, 13588, 13662, 13902, 14390, 14455, 14667, 15164, 15194, 15443, 15507, 15570, 15624, 15904, 15905, 16017, 16163, 16296, 16354, 16391, 16572, 16920, 17036, 17051, 17273, 17495, 17577, 17962, 18180, 18344, 18880, 19007, 19062, 19100, 19397, 19466, 19571, 19796]\n"
     ]
    }
   ],
   "source": [
    "\n",
    "#Compare One(B) classes between sanitized training and valid datasets for validation\n",
    "sanitized_second_index_list_B = []\n",
    "sanitized_second_duplicate_count_B = 0\n",
    "array_range = sanitized_B_dataset.shape[0]\n",
    "start = time()\n",
    "for i in range(0,array_range):\n",
    "    for j in range(1000,2000):\n",
    "        if (np.array_equal(sanitized_B_dataset[i,0:28,0:28],valid_dataset[j,0:28,0:28])):\n",
    "            sanitized_second_index_list_B.append(i)\n",
    "            sanitized_second_duplicate_count_B +=1\n",
    "end = time()\n",
    "print('Completed in {:.4f} hours'.format((end-start)/3600.0))\n",
    "print('{} Duplicate B Images with Valid Dataset'.format(sanitized_second_duplicate_count_B))\n",
    "print('Second Sanitized B Duplicate Index List',sanitized_second_index_list_B)\n",
    "\n",
    "    \n",
    "    "
   ]
  },
  {
   "cell_type": "code",
   "execution_count": 14,
   "metadata": {},
   "outputs": [
    {
     "name": "stdout",
     "output_type": "stream",
     "text": [
      "Second Sanitized B Duplicate Index List [381, 763, 1363, 2397, 2719, 2860, 3137, 3226, 3381, 3795, 4217, 4437, 4614, 4773, 4901, 4946, 5403, 5460, 5667, 5756, 5870, 6282, 6537, 7032, 7037, 7119, 7241, 7261, 7381, 7381, 7526, 7834, 7918, 8200, 8267, 8270, 8448, 8487, 8882, 8973, 9038, 9211, 9267, 9402, 9650, 9790, 9895, 10232, 10248, 10551, 10818, 10868, 11049, 11174, 11400, 12055, 12080, 12166, 12292, 12346, 12540, 12899, 13004, 13180, 13328, 13511, 13584, 13588, 13662, 13902, 14390, 14455, 14667, 15164, 15194, 15443, 15507, 15570, 15624, 15904, 15905, 16017, 16163, 16296, 16354, 16391, 16572, 16920, 17036, 17051, 17273, 17495, 17577, 17962, 18180, 18344, 18880, 19007, 19062, 19100, 19397, 19466, 19571, 19796]\n",
      "Completed in 0.0000 hours\n",
      "Sanitized B Dataset: (19748, 28, 28) (19748,)\n"
     ]
    }
   ],
   "source": [
    "\"\"\"\n",
    "Delete duplicate image between the sanitized training and valid datasets in a new sanitized class B dataset with np.delete\n",
    "\"\"\"\n",
    "print('Second Sanitized B Duplicate Index List',sanitized_second_index_list_B)\n",
    "first_dataset_size = sanitized_B_dataset.shape[0]\n",
    "start = time()\n",
    "# Create new sanitized class dataset without duplicate images\n",
    "sanitized_second_B_dataset = np.delete(sanitized_B_dataset[0:first_dataset_size,0:28,0:28],sanitized_second_index_list_B,0)\n",
    "# Create new sanitized label array\n",
    "sanitized_second_B_labels = np.delete(sanitized_B_labels[0:first_dataset_size,],sanitized_second_index_list_B,0)\n",
    "end = time()       \n",
    "\n",
    "print('Completed in {:.4f} hours'.format((end-start)/3600.0))\n",
    "print('Sanitized B Dataset:', sanitized_second_B_dataset.shape, sanitized_second_B_labels.shape)\n"
   ]
  },
  {
   "cell_type": "code",
   "execution_count": 15,
   "metadata": {},
   "outputs": [
    {
     "data": {
      "text/plain": [
       "[<matplotlib.lines.Line2D at 0x22d5c602048>]"
      ]
     },
     "execution_count": 15,
     "metadata": {},
     "output_type": "execute_result"
    },
    {
     "data": {
      "image/png": "[encoded data removed]",
      "text/plain": [
       "<matplotlib.figure.Figure at 0x22d5c602390>"
      ]
     },
     "metadata": {},
     "output_type": "display_data"
    }
   ],
   "source": [
    "plt.title('Sanitized B Labels Scatter Plot')\n",
    "plt.plot(np.arange(1,(len(sanitized_second_B_labels)+1)),sanitized_second_B_labels,\"o\")"
   ]
  },
  {
   "cell_type": "code",
   "execution_count": 16,
   "metadata": {},
   "outputs": [
    {
     "name": "stdout",
     "output_type": "stream",
     "text": [
      "Completed in 0.0288 hours\n",
      "157 Duplicate C Images\n"
     ]
    }
   ],
   "source": [
    "#Compare two(C) classes between training and test datasets\n",
    "training_index_list_C = []\n",
    "duplicate_count_C = 0\n",
    "start = time()\n",
    "for i in range(40000,60000):\n",
    "    for j in range(2000,3000):\n",
    "        if (np.array_equal(train_dataset[i,0:28,0:28],test_dataset[j,0:28,0:28])):\n",
    "            training_index_list_C.append(i)\n",
    "            duplicate_count_C +=1\n",
    "end = time()\n",
    "print('Completed in {:.4f} hours'.format((end-start)/3600.0))\n",
    "print('{} Duplicate C Images'.format(duplicate_count_C))\n",
    "\n",
    "    \n",
    "    "
   ]
  },
  {
   "cell_type": "code",
   "execution_count": 17,
   "metadata": {},
   "outputs": [
    {
     "name": "stdout",
     "output_type": "stream",
     "text": [
      "C Class Training Duplication Index List [40228, 40263, 40319, 40544, 40613, 40662, 40714, 40871, 40963, 40991, 41045, 41063, 41177, 41205, 41429, 41545, 41599, 41642, 41791, 41939, 42018, 42042, 42068, 42235, 42476, 42562, 42601, 42616, 42656, 42679, 42897, 43021, 43256, 43293, 43451, 43501, 43688, 43699, 44320, 44338, 44519, 44627, 44630, 44901, 44940, 45123, 45181, 45354, 45437, 45600, 45706, 45995, 46102, 46147, 46279, 46694, 46700, 46711, 46737, 46800, 47065, 47323, 47668, 47798, 47883, 48042, 48275, 48570, 48638, 48673, 48828, 48876, 48955, 49084, 49106, 49138, 49310, 49342, 49510, 49525, 49567, 49614, 50032, 50051, 50248, 50350, 50611, 50668, 50978, 51174, 51251, 51409, 51545, 51655, 51725, 51739, 51744, 51805, 52221, 52526, 52527, 52570, 52815, 52840, 52912, 53037, 53086, 53414, 53430, 53730, 53775, 53804, 53842, 53884, 53981, 54216, 54303, 54393, 54564, 54706, 55059, 55110, 55355, 55388, 55665, 55682, 55716, 55744, 55997, 56061, 56555, 56605, 56650, 56743, 56876, 57126, 57285, 57393, 57407, 57488, 57601, 57645, 57717, 57770, 57804, 58005, 58149, 58453, 58511, 58798, 58814, 58993, 59245, 59559, 59617, 59815, 59828]\n",
      "Completed in 0.0000 hours\n",
      "Sanitized C Dataset: (19843, 28, 28) (19843,)\n"
     ]
    }
   ],
   "source": [
    "\"\"\"\n",
    "Delete duplicate image between training and test datasets in new sanitized class C dataset with np.delete\n",
    "\"\"\"\n",
    "print('C Class Training Duplication Index List',training_index_list_C)\n",
    "\n",
    "# Define temporary  dataset and labels np arrays for image class to address np.delete max index limitation\n",
    "array_size = 20000\n",
    "start_splice = 40000\n",
    "end_splice = 60000\n",
    "temp_dataset = np.ndarray((array_size, 28, 28), dtype=np.float32)\n",
    "temp_dataset = train_dataset[start_splice:end_splice,0:28,0:28]\n",
    "temp_labels = np.ndarray(array_size, dtype=np.int32)\n",
    "temp_labels= train_labels[start_splice:end_splice,]\n",
    "\n",
    "# Define offset index list of image class duplicates\n",
    "offset_training_index_list = []\n",
    "index_offset = 40000\n",
    "#Loop for index to offset\n",
    "for i in range(0,len(training_index_list_C)):\n",
    "    offset_training_index_list.append(training_index_list_C[i]-index_offset)\n",
    "start = time()\n",
    "# Create new sanitized class dataset without duplicate images\n",
    "sanitized_C_dataset = np.delete(temp_dataset[0:array_size,0:28,0:28],offset_training_index_list,0)\n",
    "# Create new sanitized label array\n",
    "sanitized_C_labels = np.delete(temp_labels[0:array_size,],offset_training_index_list,0)\n",
    "end = time()       \n",
    "\n",
    "print('Completed in {:.4f} hours'.format((end-start)/3600.0))\n",
    "print('Sanitized C Dataset:', sanitized_C_dataset.shape, sanitized_C_labels.shape)\n"
   ]
  },
  {
   "cell_type": "code",
   "execution_count": 18,
   "metadata": {},
   "outputs": [
    {
     "name": "stdout",
     "output_type": "stream",
     "text": [
      "Completed in 0.0288 hours\n",
      "99 Duplicate C Images with Valid Dataset\n",
      "Second Sanitized C Duplicate Index List [77, 472, 735, 872, 1259, 1417, 1464, 1815, 2079, 2414, 2512, 2522, 2635, 2892, 2961, 3274, 3331, 3502, 4115, 4266, 4540, 4544, 4709, 4713, 5001, 5059, 5298, 5521, 5816, 5846, 5990, 6046, 6153, 6162, 6796, 7128, 8038, 8055, 8476, 8584, 9237, 9350, 9376, 9505, 9587, 10060, 10171, 10206, 10352, 10589, 10888, 10900, 10915, 10938, 11036, 11223, 11452, 11681, 11874, 11886, 12356, 12593, 12650, 13048, 13089, 13283, 13384, 13674, 14264, 14362, 14393, 14403, 14455, 14581, 14893, 15020, 15492, 15699, 15862, 16045, 16203, 16335, 16725, 16831, 16840, 16981, 17047, 17245, 17869, 18033, 18318, 18660, 18685, 19009, 19370, 19437, 19470, 19588, 19647]\n"
     ]
    }
   ],
   "source": [
    "\n",
    "#Compare two(C) classes between sanitized training and valid datasets for validation\n",
    "sanitized_second_index_list_C = []\n",
    "sanitized_second_duplicate_count_C = 0\n",
    "array_range = sanitized_C_dataset.shape[0]\n",
    "start = time()\n",
    "for i in range(0,array_range):\n",
    "    for j in range(2000,3000):\n",
    "        if (np.array_equal(sanitized_C_dataset[i,0:28,0:28],valid_dataset[j,0:28,0:28])):\n",
    "            sanitized_second_index_list_C.append(i)\n",
    "            sanitized_second_duplicate_count_C +=1\n",
    "            break\n",
    "end = time()\n",
    "print('Completed in {:.4f} hours'.format((end-start)/3600.0))\n",
    "print('{} Duplicate C Images with Valid Dataset'.format(sanitized_second_duplicate_count_C))\n",
    "print('Second Sanitized C Duplicate Index List',sanitized_second_index_list_C)\n",
    "\n",
    "    \n",
    "    "
   ]
  },
  {
   "cell_type": "code",
   "execution_count": 20,
   "metadata": {},
   "outputs": [
    {
     "name": "stdout",
     "output_type": "stream",
     "text": [
      "Second Sanitized C Duplicate Index List [77, 472, 735, 872, 1259, 1417, 1464, 1815, 2079, 2414, 2512, 2522, 2635, 2892, 2961, 3274, 3331, 3502, 4115, 4266, 4540, 4544, 4709, 4713, 5001, 5059, 5298, 5521, 5816, 5846, 5990, 6046, 6153, 6162, 6796, 7128, 8038, 8055, 8476, 8584, 9237, 9350, 9376, 9505, 9587, 10060, 10171, 10206, 10352, 10589, 10888, 10900, 10915, 10938, 11036, 11223, 11452, 11681, 11874, 11886, 12356, 12593, 12650, 13048, 13089, 13283, 13384, 13674, 14264, 14362, 14393, 14403, 14455, 14581, 14893, 15020, 15492, 15699, 15862, 16045, 16203, 16335, 16725, 16831, 16840, 16981, 17047, 17245, 17869, 18033, 18318, 18660, 18685, 19009, 19370, 19437, 19470, 19588, 19647]\n",
      "Completed in 0.0000 hours\n",
      "Sanitized C Dataset: (19744, 28, 28) (19744,)\n"
     ]
    }
   ],
   "source": [
    "\"\"\"\n",
    "Delete duplicate image between the sanitized training and valid datasets in a new sanitized class C dataset with np.delete\n",
    "\"\"\"\n",
    "print('Second Sanitized C Duplicate Index List',sanitized_second_index_list_C)\n",
    "first_dataset_size = sanitized_C_dataset.shape[0]\n",
    "start = time()\n",
    "# Create new sanitized class dataset without duplicate images\n",
    "sanitized_second_C_dataset = np.delete(sanitized_C_dataset[0:first_dataset_size,0:28,0:28],sanitized_second_index_list_C,0)\n",
    "# Create new sanitized label array\n",
    "sanitized_second_C_labels = np.delete(sanitized_C_labels[0:first_dataset_size,],sanitized_second_index_list_C,0)\n",
    "end = time()       \n",
    "\n",
    "print('Completed in {:.4f} hours'.format((end-start)/3600.0))\n",
    "print('Sanitized C Dataset:', sanitized_second_C_dataset.shape, sanitized_second_C_labels.shape)\n"
   ]
  },
  {
   "cell_type": "code",
   "execution_count": 21,
   "metadata": {},
   "outputs": [
    {
     "data": {
      "text/plain": [
       "[<matplotlib.lines.Line2D at 0x22d5c6977f0>]"
      ]
     },
     "execution_count": 21,
     "metadata": {},
     "output_type": "execute_result"
    },
    {
     "data": {
      "image/png": "[encoded data removed]",
      "text/plain": [
       "<matplotlib.figure.Figure at 0x22d5c697278>"
      ]
     },
     "metadata": {},
     "output_type": "display_data"
    }
   ],
   "source": [
    "plt.title('Sanitized C Labels Scatter Plot')\n",
    "plt.plot(np.arange(1,(len(sanitized_second_C_labels)+1)),sanitized_second_C_labels,\"o\")"
   ]
  },
  {
   "cell_type": "code",
   "execution_count": 22,
   "metadata": {},
   "outputs": [
    {
     "name": "stdout",
     "output_type": "stream",
     "text": [
      "Completed in 0.0290 hours\n",
      "135 Duplicate D Images\n"
     ]
    }
   ],
   "source": [
    "#Compare three(D) classes between training and test datasets\n",
    "training_index_list_D = []\n",
    "duplicate_count_D = 0\n",
    "start = time()\n",
    "for i in range(60000,80000):\n",
    "    for j in range(3000,4000):\n",
    "        if (np.array_equal(train_dataset[i,0:28,0:28],test_dataset[j,0:28,0:28])):\n",
    "            training_index_list_D.append(i)\n",
    "            duplicate_count_D +=1\n",
    "            break\n",
    "            \n",
    "end = time()\n",
    "print('Completed in {:.4f} hours'.format((end-start)/3600.0))\n",
    "print('{} Duplicate D Images'.format(duplicate_count_D))\n",
    "\n",
    "    \n",
    "    "
   ]
  },
  {
   "cell_type": "code",
   "execution_count": 23,
   "metadata": {},
   "outputs": [
    {
     "name": "stdout",
     "output_type": "stream",
     "text": [
      "D Class Training Duplication Index List [60043, 60115, 60132, 60191, 60508, 60695, 60698, 60825, 60940, 61171, 61461, 61708, 61769, 61846, 61848, 62333, 62620, 62821, 62830, 62873, 62875, 62936, 63192, 63247, 63427, 63518, 63519, 64021, 64392, 64512, 64652, 64656, 64914, 64938, 64952, 65262, 65351, 65358, 65489, 65662, 65750, 66019, 66093, 66108, 66415, 66477, 66740, 66906, 67161, 67204, 67386, 67496, 67497, 67574, 67695, 67792, 67860, 68058, 68482, 68758, 68967, 69023, 69079, 69080, 69235, 69349, 69537, 70036, 70108, 70264, 70320, 70523, 70661, 70715, 70753, 70954, 71193, 71260, 71267, 71333, 71843, 72029, 72159, 72208, 72312, 72453, 72618, 72733, 72874, 73099, 73373, 73675, 73681, 73848, 73892, 74289, 74888, 75060, 75081, 75341, 75704, 75752, 75819, 76639, 76642, 76790, 76828, 77043, 77185, 77244, 77404, 77508, 77803, 77909, 77966, 77967, 78042, 78206, 78280, 78302, 78537, 78639, 78710, 78747, 78798, 78813, 79218, 79261, 79520, 79537, 79752, 79835, 79865, 79869, 79892]\n",
      "Completed in 0.0000 hours\n",
      "Sanitized D Dataset: (19865, 28, 28) (19865,)\n"
     ]
    }
   ],
   "source": [
    "\"\"\"\n",
    "Delete duplicate image between training and test datasets in new sanitized class D dataset with np.delete\n",
    "\"\"\"\n",
    "print('D Class Training Duplication Index List',training_index_list_D)\n",
    "\n",
    "# Define temporary  dataset and labels np arrays for image class to address np.delete max index limitation\n",
    "array_size = 20000\n",
    "start_splice = 60000\n",
    "end_splice = 80000\n",
    "temp_dataset = np.ndarray((array_size, 28, 28), dtype=np.float32)\n",
    "temp_dataset = train_dataset[start_splice:end_splice,0:28,0:28]\n",
    "temp_labels = np.ndarray(array_size, dtype=np.int32)\n",
    "temp_labels= train_labels[start_splice:end_splice,]\n",
    "\n",
    "# Define offset index list of image class duplicates\n",
    "offset_training_index_list = []\n",
    "index_offset = 60000\n",
    "#Loop for index to offset\n",
    "for i in range(0,len(training_index_list_D)):\n",
    "    offset_training_index_list.append(training_index_list_D[i]-index_offset)\n",
    "start = time()\n",
    "# Create new sanitized class dataset without duplicate images\n",
    "sanitized_D_dataset = np.delete(temp_dataset[0:array_size,0:28,0:28],offset_training_index_list,0)\n",
    "# Create new sanitized label array\n",
    "sanitized_D_labels = np.delete(temp_labels[0:array_size,],offset_training_index_list,0)\n",
    "end = time()       \n",
    "\n",
    "print('Completed in {:.4f} hours'.format((end-start)/3600.0))\n",
    "print('Sanitized D Dataset:', sanitized_D_dataset.shape, sanitized_D_labels.shape)\n"
   ]
  },
  {
   "cell_type": "code",
   "execution_count": 24,
   "metadata": {},
   "outputs": [
    {
     "name": "stdout",
     "output_type": "stream",
     "text": [
      "Completed in 0.0289 hours\n",
      "126 Duplicate D Images with Valid Dataset\n",
      "Second Sanitized D Duplicate Index List [152, 286, 342, 409, 437, 518, 582, 709, 713, 933, 1015, 1056, 1103, 1147, 1204, 1246, 1429, 1473, 1487, 1865, 1886, 1888, 1902, 1983, 2342, 2432, 2537, 2557, 2963, 3093, 3150, 3191, 3199, 3555, 3667, 3691, 3875, 3963, 4078, 4502, 4547, 4576, 4886, 5324, 5524, 5793, 6502, 6530, 6779, 6970, 7511, 7629, 7746, 7801, 7812, 7838, 8167, 8349, 8403, 8641, 8979, 9078, 9461, 9536, 9631, 9782, 10103, 10218, 10403, 10636, 10685, 10797, 10809, 10893, 10962, 10983, 11033, 11334, 11443, 11480, 11610, 11800, 11837, 11875, 11903, 12020, 12460, 12682, 12947, 13273, 13294, 13414, 13642, 13859, 13899, 13949, 13994, 14192, 14342, 14478, 14668, 14696, 15315, 15560, 15694, 15807, 15938, 16124, 16344, 16494, 16715, 16935, 16946, 17153, 17223, 17236, 17313, 17575, 17761, 17889, 18025, 18588, 19054, 19470, 19748, 19785]\n"
     ]
    }
   ],
   "source": [
    "\n",
    "#Compare three(D) classes between sanitized training and valid datasets for validation\n",
    "sanitized_second_index_list_D = []\n",
    "sanitized_second_duplicate_count_D = 0\n",
    "array_range = sanitized_D_dataset.shape[0]\n",
    "start = time()\n",
    "for i in range(0,array_range):\n",
    "    for j in range(3000,4000):\n",
    "        if (np.array_equal(sanitized_D_dataset[i,0:28,0:28],valid_dataset[j,0:28,0:28])):\n",
    "            sanitized_second_index_list_D.append(i)\n",
    "            sanitized_second_duplicate_count_D +=1\n",
    "            break\n",
    "end = time()\n",
    "print('Completed in {:.4f} hours'.format((end-start)/3600.0))\n",
    "print('{} Duplicate D Images with Valid Dataset'.format(sanitized_second_duplicate_count_D))\n",
    "print('Second Sanitized D Duplicate Index List',sanitized_second_index_list_D)\n",
    "\n",
    "    \n",
    "    "
   ]
  },
  {
   "cell_type": "code",
   "execution_count": 25,
   "metadata": {},
   "outputs": [
    {
     "name": "stdout",
     "output_type": "stream",
     "text": [
      "Second Sanitized D Duplicate Index List [152, 286, 342, 409, 437, 518, 582, 709, 713, 933, 1015, 1056, 1103, 1147, 1204, 1246, 1429, 1473, 1487, 1865, 1886, 1888, 1902, 1983, 2342, 2432, 2537, 2557, 2963, 3093, 3150, 3191, 3199, 3555, 3667, 3691, 3875, 3963, 4078, 4502, 4547, 4576, 4886, 5324, 5524, 5793, 6502, 6530, 6779, 6970, 7511, 7629, 7746, 7801, 7812, 7838, 8167, 8349, 8403, 8641, 8979, 9078, 9461, 9536, 9631, 9782, 10103, 10218, 10403, 10636, 10685, 10797, 10809, 10893, 10962, 10983, 11033, 11334, 11443, 11480, 11610, 11800, 11837, 11875, 11903, 12020, 12460, 12682, 12947, 13273, 13294, 13414, 13642, 13859, 13899, 13949, 13994, 14192, 14342, 14478, 14668, 14696, 15315, 15560, 15694, 15807, 15938, 16124, 16344, 16494, 16715, 16935, 16946, 17153, 17223, 17236, 17313, 17575, 17761, 17889, 18025, 18588, 19054, 19470, 19748, 19785]\n",
      "Completed in 0.0000 hours\n",
      "Sanitized D Dataset: (19739, 28, 28) (19739,)\n"
     ]
    }
   ],
   "source": [
    "\"\"\"\n",
    "Delete duplicate image between the sanitized training and valid datasets in a new sanitized class D dataset with np.delete\n",
    "\"\"\"\n",
    "print('Second Sanitized D Duplicate Index List',sanitized_second_index_list_D)\n",
    "first_dataset_size = sanitized_D_dataset.shape[0]\n",
    "start = time()\n",
    "# Create new sanitized class dataset without duplicate images\n",
    "sanitized_second_D_dataset = np.delete(sanitized_D_dataset[0:first_dataset_size,0:28,0:28],sanitized_second_index_list_D,0)\n",
    "# Create new sanitized label array\n",
    "sanitized_second_D_labels = np.delete(sanitized_D_labels[0:first_dataset_size,],sanitized_second_index_list_D,0)\n",
    "end = time()       \n",
    "\n",
    "print('Completed in {:.4f} hours'.format((end-start)/3600.0))\n",
    "print('Sanitized D Dataset:', sanitized_second_D_dataset.shape, sanitized_second_D_labels.shape)\n"
   ]
  },
  {
   "cell_type": "code",
   "execution_count": 26,
   "metadata": {},
   "outputs": [
    {
     "data": {
      "text/plain": [
       "[<matplotlib.lines.Line2D at 0x22d6c7cc860>]"
      ]
     },
     "execution_count": 26,
     "metadata": {},
     "output_type": "execute_result"
    },
    {
     "data": {
      "image/png": "[encoded data removed]",
      "text/plain": [
       "<matplotlib.figure.Figure at 0x22d6c7cc7f0>"
      ]
     },
     "metadata": {},
     "output_type": "display_data"
    }
   ],
   "source": [
    "plt.title('Sanitized D Labels Scatter Plot')\n",
    "plt.plot(np.arange(1,(len(sanitized_second_D_labels)+1)),sanitized_second_D_labels,\"o\")"
   ]
  },
  {
   "cell_type": "code",
   "execution_count": 27,
   "metadata": {},
   "outputs": [
    {
     "name": "stdout",
     "output_type": "stream",
     "text": [
      "Completed in 0.0290 hours\n",
      "136 Duplicate E Images\n"
     ]
    }
   ],
   "source": [
    "#Compare four(E) classes between training and test datasets\n",
    "training_index_list_E = []\n",
    "duplicate_count_E = 0\n",
    "start = time()\n",
    "for i in range(80000,100000):\n",
    "    for j in range(4000,5000):\n",
    "        if (np.array_equal(train_dataset[i,0:28,0:28],test_dataset[j,0:28,0:28])):\n",
    "            training_index_list_E.append(i)\n",
    "            duplicate_count_E +=1\n",
    "            break\n",
    "end = time()\n",
    "print('Completed in {:.4f} hours'.format((end-start)/3600.0))\n",
    "print('{} Duplicate E Images'.format(duplicate_count_E))\n",
    "\n",
    "    \n",
    "    "
   ]
  },
  {
   "cell_type": "code",
   "execution_count": 28,
   "metadata": {},
   "outputs": [
    {
     "name": "stdout",
     "output_type": "stream",
     "text": [
      "E Class Training Duplication Index List [80211, 80261, 80495, 80602, 80633, 80736, 80825, 81243, 81377, 81837, 81883, 82515, 82572, 82578, 82682, 82703, 82752, 82850, 82983, 83079, 83133, 83269, 83543, 83713, 83797, 83877, 83962, 84084, 84286, 84386, 84388, 84407, 84446, 84603, 84659, 84856, 84888, 85056, 85058, 85128, 85152, 85322, 85987, 86103, 86150, 86452, 86471, 86650, 86741, 86922, 87167, 87178, 87333, 87572, 87768, 87906, 88016, 88138, 88281, 88307, 88329, 88418, 88531, 88807, 88837, 88986, 89186, 89459, 89564, 89621, 89684, 89869, 89894, 89897, 90525, 90617, 90717, 90873, 91110, 91191, 91316, 91430, 91523, 91679, 91806, 91884, 91913, 91956, 92047, 92130, 92260, 92475, 92584, 93166, 93384, 93532, 93542, 93611, 94011, 94197, 94419, 94525, 94570, 94591, 94726, 94938, 94951, 95168, 95186, 95343, 95478, 95695, 95844, 95934, 96043, 96108, 96386, 96398, 96617, 96713, 96836, 96944, 97002, 97228, 97500, 97707, 97775, 98166, 98313, 98472, 98532, 98551, 98847, 99364, 99811, 99848]\n",
      "Completed in 0.0000 hours\n",
      "Sanitized E Dataset: (19864, 28, 28) (19864,)\n"
     ]
    }
   ],
   "source": [
    "\"\"\"\n",
    "Delete duplicate image between training and test datasets in new sanitized class E dataset with np.delete\n",
    "\"\"\"\n",
    "print('E Class Training Duplication Index List',training_index_list_E)\n",
    "\n",
    "# Define temporary  dataset and labels np arrays for image class to address np.delete max index limitation \n",
    "\n",
    "array_size = 20000\n",
    "start_splice = 80000\n",
    "end_splice = 100000\n",
    "temp_dataset = np.ndarray((array_size, 28, 28), dtype=np.float32)\n",
    "temp_dataset = train_dataset[start_splice:end_splice,0:28,0:28]\n",
    "temp_labels = np.ndarray(array_size, dtype=np.int32)\n",
    "temp_labels= train_labels[start_splice:end_splice,]\n",
    "\n",
    "# Define offset index list of image class duplicates\n",
    "offset_training_index_list = []\n",
    "index_offset = 80000\n",
    "#Loop for index to offset\n",
    "for i in range(0,len(training_index_list_E)):\n",
    "    offset_training_index_list.append(training_index_list_E[i]-index_offset)\n",
    "\n",
    "start = time()\n",
    "# Create new sanitized class dataset without duplicate images\n",
    "sanitized_E_dataset = np.delete(temp_dataset[0:array_size,0:28,0:28],offset_training_index_list,0)\n",
    "# Create new sanitized label array\n",
    "sanitized_E_labels = np.delete(temp_labels[0:array_size,],offset_training_index_list,0)\n",
    "end = time()       \n",
    "\n",
    "print('Completed in {:.4f} hours'.format((end-start)/3600.0))\n",
    "print('Sanitized E Dataset:', sanitized_E_dataset.shape, sanitized_E_labels.shape)\n"
   ]
  },
  {
   "cell_type": "code",
   "execution_count": 29,
   "metadata": {},
   "outputs": [
    {
     "name": "stdout",
     "output_type": "stream",
     "text": [
      "Completed in 0.0290 hours\n",
      "103 Duplicate E Images with Valid Dataset\n",
      "Second Sanitized E Duplicate Index List [545, 638, 712, 862, 979, 1019, 1272, 1287, 1298, 1333, 1335, 1343, 1404, 1975, 2462, 2522, 3109, 3301, 3481, 3674, 3696, 3742, 3783, 4216, 4229, 4591, 4600, 4604, 4943, 4980, 5234, 5300, 5509, 6811, 7028, 7077, 7251, 7405, 7438, 8237, 8324, 8372, 8480, 8676, 8783, 8793, 8925, 9017, 9205, 9434, 9460, 9545, 9840, 11202, 11287, 11420, 11518, 11569, 11657, 12254, 12815, 13107, 13683, 14027, 14362, 14445, 14502, 14632, 14635, 14869, 15195, 15221, 15248, 15332, 15339, 15547, 15710, 15999, 16007, 16152, 16228, 16296, 16338, 16350, 16406, 16512, 16623, 16960, 16981, 17030, 17265, 17921, 18026, 18063, 18099, 18113, 18119, 18245, 18290, 18963, 19025, 19656, 19816]\n"
     ]
    }
   ],
   "source": [
    "\n",
    "#Compare four(E) classes between sanitized training and valid datasets for validation\n",
    "sanitized_second_index_list_E = []\n",
    "sanitized_second_duplicate_count_E = 0\n",
    "array_range = sanitized_E_dataset.shape[0]\n",
    "start = time()\n",
    "for i in range(0,array_range):\n",
    "    for j in range(4000,5000):\n",
    "        if (np.array_equal(sanitized_E_dataset[i,0:28,0:28],valid_dataset[j,0:28,0:28])):\n",
    "            sanitized_second_index_list_E.append(i)\n",
    "            sanitized_second_duplicate_count_E +=1\n",
    "            break\n",
    "end = time()\n",
    "print('Completed in {:.4f} hours'.format((end-start)/3600.0))\n",
    "print('{} Duplicate E Images with Valid Dataset'.format(sanitized_second_duplicate_count_E))\n",
    "print('Second Sanitized E Duplicate Index List',sanitized_second_index_list_E)\n",
    "\n",
    "    \n",
    "    "
   ]
  },
  {
   "cell_type": "code",
   "execution_count": 30,
   "metadata": {},
   "outputs": [
    {
     "name": "stdout",
     "output_type": "stream",
     "text": [
      "Second Sanitized E Duplicate Index List [545, 638, 712, 862, 979, 1019, 1272, 1287, 1298, 1333, 1335, 1343, 1404, 1975, 2462, 2522, 3109, 3301, 3481, 3674, 3696, 3742, 3783, 4216, 4229, 4591, 4600, 4604, 4943, 4980, 5234, 5300, 5509, 6811, 7028, 7077, 7251, 7405, 7438, 8237, 8324, 8372, 8480, 8676, 8783, 8793, 8925, 9017, 9205, 9434, 9460, 9545, 9840, 11202, 11287, 11420, 11518, 11569, 11657, 12254, 12815, 13107, 13683, 14027, 14362, 14445, 14502, 14632, 14635, 14869, 15195, 15221, 15248, 15332, 15339, 15547, 15710, 15999, 16007, 16152, 16228, 16296, 16338, 16350, 16406, 16512, 16623, 16960, 16981, 17030, 17265, 17921, 18026, 18063, 18099, 18113, 18119, 18245, 18290, 18963, 19025, 19656, 19816]\n",
      "Completed in 0.0000 hours\n",
      "Sanitized E Dataset: (19761, 28, 28) (19761,)\n"
     ]
    }
   ],
   "source": [
    "\"\"\"\n",
    "Delete duplicate image between the sanitized training and valid datasets in a new sanitized class E dataset with np.delete\n",
    "\"\"\"\n",
    "print('Second Sanitized E Duplicate Index List',sanitized_second_index_list_E)\n",
    "first_dataset_size = sanitized_E_dataset.shape[0]\n",
    "start = time()\n",
    "# Create new sanitized class dataset without duplicate images\n",
    "sanitized_second_E_dataset = np.delete(sanitized_E_dataset[0:first_dataset_size,0:28,0:28],sanitized_second_index_list_E,0)\n",
    "# Create new sanitized label array\n",
    "sanitized_second_E_labels = np.delete(sanitized_E_labels[0:first_dataset_size,],sanitized_second_index_list_E,0)\n",
    "end = time()       \n",
    "\n",
    "print('Completed in {:.4f} hours'.format((end-start)/3600.0))\n",
    "print('Sanitized E Dataset:', sanitized_second_E_dataset.shape, sanitized_second_E_labels.shape)\n"
   ]
  },
  {
   "cell_type": "code",
   "execution_count": 31,
   "metadata": {},
   "outputs": [
    {
     "data": {
      "text/plain": [
       "[<matplotlib.lines.Line2D at 0x22d6c7eb208>]"
      ]
     },
     "execution_count": 31,
     "metadata": {},
     "output_type": "execute_result"
    },
    {
     "data": {
      "image/png": "[encoded data removed]",
      "text/plain": [
       "<matplotlib.figure.Figure at 0x22d6c7eb7f0>"
      ]
     },
     "metadata": {},
     "output_type": "display_data"
    }
   ],
   "source": [
    "plt.title('Sanitized E Labels Scatter Plot')\n",
    "plt.plot(np.arange(1,(len(sanitized_second_E_labels)+1)),sanitized_second_E_labels,\"o\")"
   ]
  },
  {
   "cell_type": "code",
   "execution_count": 32,
   "metadata": {},
   "outputs": [
    {
     "name": "stdout",
     "output_type": "stream",
     "text": [
      "Completed in 0.0291 hours\n",
      "124 Duplicate F Images\n"
     ]
    }
   ],
   "source": [
    "#Compare five(F) classes between training and test datasets\n",
    "training_index_list_F = []\n",
    "duplicate_count_F = 0\n",
    "start = time()\n",
    "for i in range(100000,120000):\n",
    "    for j in range(5000,6000):\n",
    "        if (np.array_equal(train_dataset[i,0:28,0:28],test_dataset[j,0:28,0:28])):\n",
    "            training_index_list_F.append(i)\n",
    "            duplicate_count_F +=1\n",
    "            break\n",
    "end = time()\n",
    "print('Completed in {:.4f} hours'.format((end-start)/3600.0))\n",
    "print('{} Duplicate F Images'.format(duplicate_count_F))\n",
    "\n",
    "    \n",
    "    "
   ]
  },
  {
   "cell_type": "code",
   "execution_count": 33,
   "metadata": {},
   "outputs": [
    {
     "name": "stdout",
     "output_type": "stream",
     "text": [
      "F Class Training Duplication Index List [100040, 100356, 100393, 100778, 101052, 101127, 101246, 101420, 101549, 101731, 101745, 101786, 101830, 101977, 102273, 102322, 102361, 102436, 102506, 102526, 102654, 102922, 102981, 103189, 103285, 103299, 103831, 104078, 104272, 104440, 104711, 104806, 104950, 105016, 105034, 105313, 105317, 105411, 106332, 106479, 106523, 106800, 106836, 107113, 107118, 107177, 107306, 107316, 107338, 107463, 107630, 107946, 108002, 108015, 108232, 108285, 108539, 108708, 108941, 109130, 109474, 109781, 109843, 109891, 109915, 110041, 110260, 110419, 110426, 110588, 110617, 110935, 110937, 111273, 111318, 111711, 111991, 112019, 112280, 112425, 112572, 112644, 112660, 112826, 112965, 112968, 113065, 113165, 113341, 113540, 114336, 114514, 114687, 114863, 114865, 114910, 115015, 115161, 115415, 115472, 115872, 115966, 116487, 116540, 117073, 117236, 117273, 117674, 117724, 117813, 117937, 118081, 118466, 119119, 119130, 119205, 119344, 119502, 119531, 119763, 119772, 119795, 119878, 119966]\n",
      "Completed in 0.0000 hours\n",
      "Sanitized F Dataset: (19876, 28, 28) (19876,)\n"
     ]
    }
   ],
   "source": [
    "\"\"\"\n",
    "Delete duplicate image between training and test datasets in new sanitized class F dataset with np.delete\n",
    "\"\"\"\n",
    "print('F Class Training Duplication Index List',training_index_list_F)\n",
    "\n",
    "# Define temporary  dataset and labels np arrays for image class to address np.delete max index limitation\n",
    "array_size = 20000\n",
    "start_splice = 100000\n",
    "end_splice = 120000\n",
    "temp_dataset = np.ndarray((array_size, 28, 28), dtype=np.float32)\n",
    "temp_dataset = train_dataset[start_splice:end_splice,0:28,0:28]\n",
    "temp_labels = np.ndarray(array_size, dtype=np.int32)\n",
    "temp_labels= train_labels[start_splice:end_splice,]\n",
    "\n",
    "# Define offset index list of image class duplicates\n",
    "offset_training_index_list = []\n",
    "index_offset = 100000\n",
    "#Loop for index to offset\n",
    "for i in range(0,len(training_index_list_F)):\n",
    "    offset_training_index_list.append(training_index_list_F[i]-index_offset)\n",
    "start = time()\n",
    "# Create new sanitized class dataset without duplicate images\n",
    "sanitized_F_dataset = np.delete(temp_dataset[0:array_size,0:28,0:28],offset_training_index_list,0)\n",
    "# Create new sanitized label array\n",
    "sanitized_F_labels = np.delete(temp_labels[0:array_size,],offset_training_index_list,0)\n",
    "end = time()       \n",
    "\n",
    "print('Completed in {:.4f} hours'.format((end-start)/3600.0))\n",
    "print('Sanitized F Dataset:', sanitized_F_dataset.shape, sanitized_F_labels.shape)\n"
   ]
  },
  {
   "cell_type": "code",
   "execution_count": 34,
   "metadata": {},
   "outputs": [
    {
     "name": "stdout",
     "output_type": "stream",
     "text": [
      "Completed in 0.0287 hours\n",
      "117 Duplicate F Images with Valid Dataset\n",
      "Second Sanitized F Duplicate Index List [181, 416, 732, 954, 1428, 1770, 1831, 1861, 1871, 1992, 2099, 2296, 2480, 2542, 2652, 2980, 3170, 3557, 3732, 3795, 3990, 4006, 4025, 4150, 4218, 4687, 5342, 5770, 5957, 6361, 6457, 6641, 7026, 7531, 7734, 7964, 8140, 8408, 8482, 8540, 8776, 8792, 9157, 9518, 9607, 9721, 9908, 10303, 10432, 10462, 10573, 10593, 10866, 11284, 11305, 11394, 11583, 11612, 11739, 11987, 12180, 12210, 12239, 12248, 12458, 12460, 12859, 12943, 13057, 13100, 14086, 14123, 14169, 14431, 14494, 14588, 14967, 15108, 15212, 15239, 15273, 15310, 15340, 15758, 15774, 15829, 15990, 16055, 16210, 16257, 16356, 16461, 16843, 16873, 16894, 16974, 17085, 17141, 17366, 17439, 17466, 17630, 17818, 17895, 18111, 18443, 18542, 18634, 18798, 18878, 18975, 19469, 19493, 19525, 19564, 19608, 19850]\n"
     ]
    }
   ],
   "source": [
    "\n",
    "#Compare five(F) classes between sanitized training and valid datasets for validation\n",
    "sanitized_second_index_list_F = []\n",
    "sanitized_second_duplicate_count_F = 0\n",
    "array_range = sanitized_F_dataset.shape[0]\n",
    "start = time()\n",
    "for i in range(0,array_range):\n",
    "    for j in range(5000,6000):\n",
    "        if (np.array_equal(sanitized_F_dataset[i,0:28,0:28],valid_dataset[j,0:28,0:28])):\n",
    "            sanitized_second_index_list_F.append(i)\n",
    "            sanitized_second_duplicate_count_F +=1\n",
    "            break\n",
    "end = time()\n",
    "print('Completed in {:.4f} hours'.format((end-start)/3600.0))\n",
    "print('{} Duplicate F Images with Valid Dataset'.format(sanitized_second_duplicate_count_F))\n",
    "print('Second Sanitized F Duplicate Index List',sanitized_second_index_list_F)\n",
    "\n",
    "    \n",
    "    "
   ]
  },
  {
   "cell_type": "code",
   "execution_count": 35,
   "metadata": {},
   "outputs": [
    {
     "name": "stdout",
     "output_type": "stream",
     "text": [
      "Second Sanitized F Duplicate Index List [181, 416, 732, 954, 1428, 1770, 1831, 1861, 1871, 1992, 2099, 2296, 2480, 2542, 2652, 2980, 3170, 3557, 3732, 3795, 3990, 4006, 4025, 4150, 4218, 4687, 5342, 5770, 5957, 6361, 6457, 6641, 7026, 7531, 7734, 7964, 8140, 8408, 8482, 8540, 8776, 8792, 9157, 9518, 9607, 9721, 9908, 10303, 10432, 10462, 10573, 10593, 10866, 11284, 11305, 11394, 11583, 11612, 11739, 11987, 12180, 12210, 12239, 12248, 12458, 12460, 12859, 12943, 13057, 13100, 14086, 14123, 14169, 14431, 14494, 14588, 14967, 15108, 15212, 15239, 15273, 15310, 15340, 15758, 15774, 15829, 15990, 16055, 16210, 16257, 16356, 16461, 16843, 16873, 16894, 16974, 17085, 17141, 17366, 17439, 17466, 17630, 17818, 17895, 18111, 18443, 18542, 18634, 18798, 18878, 18975, 19469, 19493, 19525, 19564, 19608, 19850]\n",
      "Completed in 0.0000 hours\n",
      "Sanitized F Dataset: (19759, 28, 28) (19759,)\n"
     ]
    }
   ],
   "source": [
    "\"\"\"\n",
    "Delete duplicate image between the sanitized training and valid datasets in a new sanitized class F dataset\n",
    "with np.delete\n",
    "\"\"\"\n",
    "print('Second Sanitized F Duplicate Index List',sanitized_second_index_list_F)\n",
    "first_dataset_size = sanitized_F_dataset.shape[0]\n",
    "start = time()\n",
    "# Create new sanitized class dataset without duplicate images\n",
    "sanitized_second_F_dataset = np.delete(sanitized_F_dataset[0:first_dataset_size,0:28,0:28],\\\n",
    "                                       sanitized_second_index_list_F,0)\n",
    "# Create new sanitized label array\n",
    "sanitized_second_F_labels = np.delete(sanitized_F_labels[0:first_dataset_size,],sanitized_second_index_list_F,0)\n",
    "end = time()       \n",
    "\n",
    "print('Completed in {:.4f} hours'.format((end-start)/3600.0))\n",
    "print('Sanitized F Dataset:', sanitized_second_F_dataset.shape, sanitized_second_F_labels.shape)\n"
   ]
  },
  {
   "cell_type": "code",
   "execution_count": 36,
   "metadata": {},
   "outputs": [
    {
     "data": {
      "text/plain": [
       "[<matplotlib.lines.Line2D at 0x22d7b5d0128>]"
      ]
     },
     "execution_count": 36,
     "metadata": {},
     "output_type": "execute_result"
    },
    {
     "data": {
      "image/png": "[encoded data removed]",
      "text/plain": [
       "<matplotlib.figure.Figure at 0x22d7b5d0b38>"
      ]
     },
     "metadata": {},
     "output_type": "display_data"
    }
   ],
   "source": [
    "plt.title('Sanitized F Labels Scatter Plot')\n",
    "plt.plot(np.arange(1,(len(sanitized_second_F_labels)+1)),sanitized_second_F_labels,\"o\")"
   ]
  },
  {
   "cell_type": "code",
   "execution_count": 37,
   "metadata": {},
   "outputs": [
    {
     "name": "stdout",
     "output_type": "stream",
     "text": [
      "Completed in 0.0292 hours\n",
      "139 Duplicate G Images\n"
     ]
    }
   ],
   "source": [
    "#Compare six(G) classes between training and test datasets\n",
    "training_index_list_G = []\n",
    "duplicate_count_G = 0\n",
    "start = time()\n",
    "for i in range(120000,140000):\n",
    "    for j in range(6000,7000):\n",
    "        if (np.array_equal(train_dataset[i,0:28,0:28],test_dataset[j,0:28,0:28])):\n",
    "            training_index_list_G.append(i)\n",
    "            duplicate_count_G +=1\n",
    "            break\n",
    "end = time()\n",
    "print('Completed in {:.4f} hours'.format((end-start)/3600.0))\n",
    "print('{} Duplicate G Images'.format(duplicate_count_G))\n",
    "\n",
    "    \n",
    "    "
   ]
  },
  {
   "cell_type": "markdown",
   "metadata": {},
   "source": [
    "144 Duplicate G Images"
   ]
  },
  {
   "cell_type": "code",
   "execution_count": 38,
   "metadata": {},
   "outputs": [
    {
     "name": "stdout",
     "output_type": "stream",
     "text": [
      "G Class Training Duplication Index List [120083, 120294, 120527, 120639, 120800, 120890, 120897, 121027, 121589, 121652, 122354, 122668, 122676, 122792, 122947, 123177, 123187, 123214, 123295, 123391, 123453, 123787, 123936, 123963, 124014, 124333, 124394, 124517, 124555, 124571, 124623, 124725, 125049, 125144, 125379, 125480, 125747, 125769, 125863, 125975, 126896, 127067, 127196, 127246, 127274, 127503, 127533, 127645, 127778, 127959, 128033, 128192, 128348, 128667, 128734, 128793, 128859, 129105, 129422, 129499, 129520, 129651, 129672, 129786, 129999, 130151, 130153, 130233, 130255, 130261, 130497, 130856, 131047, 131246, 131332, 131405, 131669, 131680, 131738, 131807, 131852, 132431, 132624, 132811, 132898, 133144, 133226, 133275, 133411, 133453, 133812, 133844, 133871, 133905, 133919, 134030, 134156, 134253, 134305, 134477, 134479, 134597, 134626, 134790, 134834, 135020, 135044, 135249, 135256, 135571, 135799, 135833, 136093, 136730, 136774, 136952, 137290, 137360, 137419, 137530, 137557, 137571, 137658, 137692, 137955, 138367, 138452, 138558, 138608, 138616, 138990, 139002, 139259, 139280, 139333, 139364, 139376, 139842, 139883]\n",
      "Completed in 0.0000 hours\n",
      "Sanitized G Dataset: (19861, 28, 28) (19861,)\n"
     ]
    }
   ],
   "source": [
    "\"\"\"\n",
    "Delete duplicate image between training and test datasets in new sanitized class G dataset with np.delete\n",
    "\"\"\"\n",
    "print('G Class Training Duplication Index List',training_index_list_G)\n",
    "\n",
    "# Define temporary  dataset and labels np arrays for image class to address np.delete max index limitation\n",
    "array_size = 20000\n",
    "start_splice = 120000\n",
    "end_splice = 140000\n",
    "temp_dataset = np.ndarray((array_size, 28, 28), dtype=np.float32)\n",
    "temp_dataset = train_dataset[start_splice:end_splice,0:28,0:28]\n",
    "temp_labels = np.ndarray(array_size, dtype=np.int32)\n",
    "temp_labels= train_labels[start_splice:end_splice,]\n",
    "\n",
    "# Define offset index list of image class duplicates\n",
    "offset_training_index_list = []\n",
    "index_offset = 120000\n",
    "#Loop for index to offset\n",
    "for i in range(0,len(training_index_list_G)):\n",
    "    offset_training_index_list.append(training_index_list_G[i]-index_offset)\n",
    "start = time()\n",
    "# Create new sanitized class dataset without duplicate images\n",
    "sanitized_G_dataset = np.delete(temp_dataset[0:array_size,0:28,0:28],offset_training_index_list,0)\n",
    "# Create new sanitized label array\n",
    "sanitized_G_labels = np.delete(temp_labels[0:array_size,],offset_training_index_list,0)\n",
    "end = time()       \n",
    "\n",
    "print('Completed in {:.4f} hours'.format((end-start)/3600.0))\n",
    "print('Sanitized G Dataset:', sanitized_G_dataset.shape, sanitized_G_labels.shape)\n"
   ]
  },
  {
   "cell_type": "code",
   "execution_count": 39,
   "metadata": {},
   "outputs": [
    {
     "name": "stdout",
     "output_type": "stream",
     "text": [
      "Completed in 0.0287 hours\n",
      "98 Duplicate G Images with Valid Dataset\n",
      "Second Sanitized G Duplicate Index List [26, 511, 592, 683, 948, 1002, 1167, 1295, 1392, 1530, 2300, 2345, 2827, 3194, 3331, 3431, 3513, 3514, 3529, 3753, 4208, 4215, 4290, 4931, 5681, 6196, 6563, 7087, 7169, 7174, 7299, 7417, 7511, 7538, 7789, 8170, 8244, 8286, 8293, 8387, 8628, 8903, 9236, 9270, 9385, 9459, 9695, 9799, 10176, 10203, 10482, 11650, 11652, 11755, 11966, 12023, 12117, 12188, 12298, 12380, 12605, 12690, 12760, 13177, 13300, 13413, 13542, 13792, 14042, 14048, 14101, 14318, 14448, 14458, 14953, 14982, 15059, 15106, 15259, 15326, 15333, 15532, 15567, 15654, 15914, 15980, 16229, 16744, 16999, 17018, 17179, 17624, 17816, 18245, 18513, 19029, 19431, 19469]\n"
     ]
    }
   ],
   "source": [
    "\n",
    "#Compare six(G) classes between sanitized training and valid datasets for validation\n",
    "sanitized_second_index_list_G = []\n",
    "sanitized_second_duplicate_count_G = 0\n",
    "array_range = sanitized_G_dataset.shape[0]\n",
    "start = time()\n",
    "for i in range(0,array_range):\n",
    "    for j in range(6000,7000):\n",
    "        if (np.array_equal(sanitized_G_dataset[i,0:28,0:28],valid_dataset[j,0:28,0:28])):\n",
    "            sanitized_second_index_list_G.append(i)\n",
    "            sanitized_second_duplicate_count_G +=1\n",
    "            break\n",
    "end = time()\n",
    "print('Completed in {:.4f} hours'.format((end-start)/3600.0))\n",
    "print('{} Duplicate G Images with Valid Dataset'.format(sanitized_second_duplicate_count_G))\n",
    "print('Second Sanitized G Duplicate Index List',sanitized_second_index_list_G)\n",
    "\n",
    "    \n",
    "    "
   ]
  },
  {
   "cell_type": "code",
   "execution_count": 40,
   "metadata": {},
   "outputs": [
    {
     "name": "stdout",
     "output_type": "stream",
     "text": [
      "Second Sanitized G Duplicate Index List [26, 511, 592, 683, 948, 1002, 1167, 1295, 1392, 1530, 2300, 2345, 2827, 3194, 3331, 3431, 3513, 3514, 3529, 3753, 4208, 4215, 4290, 4931, 5681, 6196, 6563, 7087, 7169, 7174, 7299, 7417, 7511, 7538, 7789, 8170, 8244, 8286, 8293, 8387, 8628, 8903, 9236, 9270, 9385, 9459, 9695, 9799, 10176, 10203, 10482, 11650, 11652, 11755, 11966, 12023, 12117, 12188, 12298, 12380, 12605, 12690, 12760, 13177, 13300, 13413, 13542, 13792, 14042, 14048, 14101, 14318, 14448, 14458, 14953, 14982, 15059, 15106, 15259, 15326, 15333, 15532, 15567, 15654, 15914, 15980, 16229, 16744, 16999, 17018, 17179, 17624, 17816, 18245, 18513, 19029, 19431, 19469]\n",
      "Completed in 0.0000 hours\n",
      "Sanitized G Dataset: (19763, 28, 28) (19763,)\n"
     ]
    }
   ],
   "source": [
    "\"\"\"\n",
    "Delete duplicate image between the sanitized training and valid datasets in a new sanitized class G dataset with np.delete\n",
    "\"\"\"\n",
    "print('Second Sanitized G Duplicate Index List',sanitized_second_index_list_G)\n",
    "first_dataset_size = sanitized_G_dataset.shape[0]\n",
    "start = time()\n",
    "# Create new sanitized class dataset without duplicate images\n",
    "sanitized_second_G_dataset = np.delete(sanitized_G_dataset[0:first_dataset_size,0:28,0:28],sanitized_second_index_list_G,0)\n",
    "# Create new sanitized label array\n",
    "sanitized_second_G_labels = np.delete(sanitized_G_labels[0:first_dataset_size,],sanitized_second_index_list_G,0)\n",
    "end = time()       \n",
    "\n",
    "print('Completed in {:.4f} hours'.format((end-start)/3600.0))\n",
    "print('Sanitized G Dataset:', sanitized_second_G_dataset.shape, sanitized_second_G_labels.shape)\n"
   ]
  },
  {
   "cell_type": "code",
   "execution_count": 41,
   "metadata": {},
   "outputs": [
    {
     "data": {
      "text/plain": [
       "[<matplotlib.lines.Line2D at 0x22d7b5d09b0>]"
      ]
     },
     "execution_count": 41,
     "metadata": {},
     "output_type": "execute_result"
    },
    {
     "data": {
      "image/png": "[encoded data removed]",
      "text/plain": [
       "<matplotlib.figure.Figure at 0x22d7b5d07b8>"
      ]
     },
     "metadata": {},
     "output_type": "display_data"
    }
   ],
   "source": [
    "plt.title('Sanitized G Labels Scatter Plot')\n",
    "plt.plot(np.arange(1,(len(sanitized_second_G_labels)+1)),sanitized_second_G_labels,\"o\")"
   ]
  },
  {
   "cell_type": "code",
   "execution_count": 42,
   "metadata": {},
   "outputs": [
    {
     "name": "stdout",
     "output_type": "stream",
     "text": [
      "Completed in 0.0292 hours\n",
      "173 Duplicate H Images\n"
     ]
    }
   ],
   "source": [
    "#Compare seven(H) classes between training and test datasets\n",
    "training_index_list_H = []\n",
    "duplicate_count_H = 0\n",
    "start = time()\n",
    "for i in range(140000,160000):\n",
    "    for j in range(7000,8000):\n",
    "        if (np.array_equal(train_dataset[i,0:28,0:28],test_dataset[j,0:28,0:28])):\n",
    "            training_index_list_H.append(i)\n",
    "            duplicate_count_H +=1\n",
    "            break\n",
    "end = time()\n",
    "print('Completed in {:.4f} hours'.format((end-start)/3600.0))\n",
    "print('{} Duplicate H Images'.format(duplicate_count_H))\n",
    "\n",
    "    \n",
    "    "
   ]
  },
  {
   "cell_type": "markdown",
   "metadata": {},
   "source": [
    "176 Duplicate H Images "
   ]
  },
  {
   "cell_type": "code",
   "execution_count": 43,
   "metadata": {},
   "outputs": [
    {
     "name": "stdout",
     "output_type": "stream",
     "text": [
      "H Class Training Duplication Index List [140081, 140169, 140335, 140378, 140384, 140393, 140492, 140502, 140565, 140732, 141018, 141174, 141664, 141691, 141720, 141741, 141818, 141877, 141941, 142014, 142071, 142206, 142348, 142356, 142415, 142528, 143012, 143099, 143288, 143340, 143362, 143456, 143461, 143856, 143945, 144405, 144548, 144591, 144600, 144626, 144679, 144681, 144746, 144816, 144844, 144875, 144940, 145037, 145411, 145495, 145640, 145642, 145762, 145801, 145886, 145916, 146081, 146135, 146195, 146418, 146746, 147118, 147142, 147163, 147268, 147278, 147497, 147594, 147599, 147640, 147707, 147829, 147857, 147955, 148604, 148764, 148801, 149228, 149341, 149532, 149710, 149807, 149828, 149884, 149982, 150100, 150151, 150210, 150285, 150346, 150406, 150504, 150585, 150594, 150620, 150720, 150890, 151045, 151058, 151446, 151605, 151669, 151788, 151890, 151918, 151934, 151944, 152216, 152382, 152495, 152762, 152922, 153197, 153545, 153987, 154028, 154118, 154191, 154279, 154302, 154315, 154333, 154347, 154511, 154859, 154882, 155032, 155075, 155198, 155471, 155814, 155851, 155878, 155921, 155930, 156013, 156055, 156219, 156318, 156650, 156673, 156758, 156824, 156898, 157034, 157127, 157311, 157375, 157502, 157655, 157774, 157814, 157965, 157969, 158102, 158284, 158294, 158604, 158641, 158651, 159027, 159089, 159321, 159369, 159409, 159482, 159493, 159572, 159665, 159668, 159727, 159785, 159989]\n",
      "Completed in 0.0000 hours\n",
      "Sanitized H Dataset: (19827, 28, 28) (19827,)\n"
     ]
    }
   ],
   "source": [
    "\"\"\"\n",
    "Delete duplicate image between training and test datasets in new sanitized class H dataset with np.delete\n",
    "\"\"\"\n",
    "print('H Class Training Duplication Index List',training_index_list_H)\n",
    "\n",
    "# Define temporary  dataset and labels np arrays for image class to address np.delete max index limitation\n",
    "array_size = 20000\n",
    "start_splice = 140000\n",
    "end_splice = 160000\n",
    "temp_dataset = np.ndarray((array_size, 28, 28), dtype=np.float32)\n",
    "temp_dataset = train_dataset[start_splice:end_splice,0:28,0:28]\n",
    "temp_labels = np.ndarray(array_size, dtype=np.int32)\n",
    "temp_labels= train_labels[start_splice:end_splice,]\n",
    "\n",
    "# Define offset index list of image class duplicates\n",
    "offset_training_index_list = []\n",
    "index_offset = 140000\n",
    "#Loop for index to offset\n",
    "for i in range(0,len(training_index_list_H)):\n",
    "    offset_training_index_list.append(training_index_list_H[i]-index_offset)\n",
    "start = time()\n",
    "# Create new sanitized class dataset without duplicate images\n",
    "sanitized_H_dataset = np.delete(temp_dataset[0:array_size,0:28,0:28],offset_training_index_list,0)\n",
    "# Create new sanitized label array\n",
    "sanitized_H_labels = np.delete(temp_labels[0:array_size,],offset_training_index_list,0)\n",
    "end = time()       \n",
    "\n",
    "print('Completed in {:.4f} hours'.format((end-start)/3600.0))\n",
    "print('Sanitized H Dataset:', sanitized_H_dataset.shape, sanitized_H_labels.shape)\n"
   ]
  },
  {
   "cell_type": "code",
   "execution_count": 45,
   "metadata": {},
   "outputs": [
    {
     "name": "stdout",
     "output_type": "stream",
     "text": [
      "Completed in 0.0287 hours\n",
      "163 Duplicate H Images with Valid Dataset\n",
      "Second Sanitized H Duplicate Index List [113, 187, 289, 564, 568, 593, 638, 665, 690, 708, 837, 848, 886, 889, 1300, 1500, 1672, 1737, 1798, 1912, 1947, 2275, 2277, 2452, 2655, 2849, 2936, 3152, 3196, 3373, 3485, 3590, 3689, 3723, 3843, 4105, 4184, 4239, 4392, 4453, 4601, 4629, 4630, 4718, 4934, 5206, 5385, 5387, 5529, 5582, 5698, 5752, 5857, 6689, 6783, 6823, 6938, 6971, 7136, 7164, 7268, 7347, 7384, 7447, 7506, 7528, 7777, 7801, 8126, 8165, 8210, 8329, 8382, 8439, 8626, 8641, 8901, 9249, 9250, 9422, 9594, 9616, 9718, 9815, 9949, 10403, 10413, 10560, 10563, 10588, 10687, 10892, 10972, 11176, 11381, 11406, 11768, 11832, 11868, 11987, 12023, 12236, 12434, 12481, 12754, 12755, 12760, 12970, 13040, 13338, 13560, 13579, 13707, 13803, 14141, 14261, 14281, 14578, 14631, 14769, 14789, 14923, 14933, 15101, 15130, 15170, 15183, 15347, 15371, 15380, 15554, 15638, 15673, 15755, 16025, 16111, 16168, 16284, 16427, 16640, 17060, 17305, 17328, 17390, 17680, 17698, 17751, 17893, 18001, 18007, 18087, 18105, 18124, 18259, 18481, 18553, 18652, 18735, 19359, 19444, 19455, 19669, 19678]\n"
     ]
    }
   ],
   "source": [
    "\n",
    "#Compare seven(H) classes between sanitized training and valid datasets for validation\n",
    "sanitized_second_index_list_H = []\n",
    "sanitized_second_duplicate_count_H = 0\n",
    "array_range = sanitized_H_dataset.shape[0]\n",
    "start = time()\n",
    "for i in range(0,array_range):\n",
    "    for j in range(7000,8000):\n",
    "        if (np.array_equal(sanitized_H_dataset[i,0:28,0:28],valid_dataset[j,0:28,0:28])):\n",
    "            sanitized_second_index_list_H.append(i)\n",
    "            sanitized_second_duplicate_count_H +=1\n",
    "            break\n",
    "end = time()\n",
    "print('Completed in {:.4f} hours'.format((end-start)/3600.0))\n",
    "print('{} Duplicate H Images with Valid Dataset'.format(sanitized_second_duplicate_count_H))\n",
    "print('Second Sanitized H Duplicate Index List',sanitized_second_index_list_H)\n",
    "\n",
    "    \n",
    "    "
   ]
  },
  {
   "cell_type": "code",
   "execution_count": 46,
   "metadata": {},
   "outputs": [
    {
     "name": "stdout",
     "output_type": "stream",
     "text": [
      "Second Sanitized H Duplicate Index List [113, 187, 289, 564, 568, 593, 638, 665, 690, 708, 837, 848, 886, 889, 1300, 1500, 1672, 1737, 1798, 1912, 1947, 2275, 2277, 2452, 2655, 2849, 2936, 3152, 3196, 3373, 3485, 3590, 3689, 3723, 3843, 4105, 4184, 4239, 4392, 4453, 4601, 4629, 4630, 4718, 4934, 5206, 5385, 5387, 5529, 5582, 5698, 5752, 5857, 6689, 6783, 6823, 6938, 6971, 7136, 7164, 7268, 7347, 7384, 7447, 7506, 7528, 7777, 7801, 8126, 8165, 8210, 8329, 8382, 8439, 8626, 8641, 8901, 9249, 9250, 9422, 9594, 9616, 9718, 9815, 9949, 10403, 10413, 10560, 10563, 10588, 10687, 10892, 10972, 11176, 11381, 11406, 11768, 11832, 11868, 11987, 12023, 12236, 12434, 12481, 12754, 12755, 12760, 12970, 13040, 13338, 13560, 13579, 13707, 13803, 14141, 14261, 14281, 14578, 14631, 14769, 14789, 14923, 14933, 15101, 15130, 15170, 15183, 15347, 15371, 15380, 15554, 15638, 15673, 15755, 16025, 16111, 16168, 16284, 16427, 16640, 17060, 17305, 17328, 17390, 17680, 17698, 17751, 17893, 18001, 18007, 18087, 18105, 18124, 18259, 18481, 18553, 18652, 18735, 19359, 19444, 19455, 19669, 19678]\n",
      "Completed in 0.0000 hours\n",
      "Sanitized H Dataset: (19664, 28, 28) (19664,)\n"
     ]
    }
   ],
   "source": [
    "\"\"\"\n",
    "Delete duplicate image between the sanitized training and valid datasets in a new sanitized class H dataset with np.delete\n",
    "\"\"\"\n",
    "print('Second Sanitized H Duplicate Index List',sanitized_second_index_list_H)\n",
    "first_dataset_size = sanitized_H_dataset.shape[0]\n",
    "start = time()\n",
    "# Create new sanitized class dataset without duplicate images\n",
    "sanitized_second_H_dataset = np.delete(sanitized_H_dataset[0:first_dataset_size,0:28,0:28],sanitized_second_index_list_H,0)\n",
    "# Create new sanitized label array\n",
    "sanitized_second_H_labels = np.delete(sanitized_H_labels[0:first_dataset_size,],sanitized_second_index_list_H,0)\n",
    "end = time()       \n",
    "\n",
    "print('Completed in {:.4f} hours'.format((end-start)/3600.0))\n",
    "print('Sanitized H Dataset:', sanitized_second_H_dataset.shape, sanitized_second_H_labels.shape)\n"
   ]
  },
  {
   "cell_type": "code",
   "execution_count": 47,
   "metadata": {},
   "outputs": [
    {
     "data": {
      "text/plain": [
       "[<matplotlib.lines.Line2D at 0x22d0b1f2828>]"
      ]
     },
     "execution_count": 47,
     "metadata": {},
     "output_type": "execute_result"
    },
    {
     "data": {
      "image/png": "[encoded data removed]",
      "text/plain": [
       "<matplotlib.figure.Figure at 0x22d0b1f2be0>"
      ]
     },
     "metadata": {},
     "output_type": "display_data"
    }
   ],
   "source": [
    "plt.title('Sanitized H Labels Scatter Plot')\n",
    "plt.plot(np.arange(1,(len(sanitized_second_H_labels)+1)),sanitized_second_H_labels,\"o\")"
   ]
  },
  {
   "cell_type": "code",
   "execution_count": 48,
   "metadata": {},
   "outputs": [
    {
     "name": "stdout",
     "output_type": "stream",
     "text": [
      "Completed in 0.0260 hours\n",
      "2302 Duplicate I Images\n"
     ]
    }
   ],
   "source": [
    "#Compare eight(I) classes between training and test datasets\n",
    "training_index_list_I = []\n",
    "duplicate_count_I = 0\n",
    "start = time()\n",
    "for i in range(160000,180000):\n",
    "    for j in range(8000,9000):\n",
    "        if (np.array_equal(train_dataset[i,0:28,0:28],test_dataset[j,0:28,0:28])):\n",
    "            training_index_list_I.append(i)\n",
    "            duplicate_count_I +=1\n",
    "            break\n",
    "end = time()\n",
    "print('Completed in {:.4f} hours'.format((end-start)/3600.0))\n",
    "print('{} Duplicate I Images'.format(duplicate_count_I))\n",
    "\n",
    "    \n",
    "    "
   ]
  },
  {
   "cell_type": "code",
   "execution_count": 49,
   "metadata": {},
   "outputs": [
    {
     "name": "stdout",
     "output_type": "stream",
     "text": [
      "I Class Training Duplication Index List [160001, 160024, 160031, 160037, 160075, 160102, 160107, 160110, 160116, 160122, 160132, 160141, 160151, 160156, 160174, 160190, 160201, 160211, 160215, 160216, 160229, 160230, 160239, 160248, 160249, 160251, 160258, 160273, 160280, 160293, 160308, 160323, 160325, 160328, 160338, 160343, 160346, 160353, 160365, 160366, 160367, 160371, 160379, 160382, 160401, 160402, 160403, 160419, 160427, 160430, 160449, 160465, 160467, 160490, 160510, 160548, 160565, 160570, 160583, 160587, 160595, 160597, 160600, 160626, 160637, 160656, 160662, 160676, 160725, 160728, 160729, 160741, 160750, 160751, 160752, 160760, 160771, 160781, 160785, 160802, 160805, 160807, 160812, 160834, 160836, 160840, 160856, 160862, 160883, 160884, 160887, 160888, 160894, 160896, 160922, 160923, 160927, 160952, 160968, 160973, 160975, 160988, 161013, 161037, 161048, 161055, 161061, 161068, 161082, 161098, 161099, 161102, 161106, 161115, 161119, 161135, 161163, 161184, 161202, 161221, 161223, 161233, 161243, 161256, 161261, 161265, 161273, 161275, 161278, 161296, 161300, 161325, 161328, 161329, 161345, 161350, 161354, 161360, 161371, 161378, 161384, 161389, 161398, 161406, 161422, 161426, 161443, 161450, 161454, 161465, 161469, 161491, 161505, 161529, 161557, 161570, 161571, 161582, 161583, 161593, 161596, 161605, 161606, 161613, 161614, 161620, 161630, 161641, 161646, 161652, 161664, 161671, 161686, 161688, 161702, 161703, 161705, 161707, 161727, 161734, 161748, 161749, 161752, 161780, 161806, 161818, 161844, 161846, 161850, 161858, 161867, 161871, 161872, 161884, 161887, 161894, 161908, 161916, 161919, 161921, 161947, 161966, 161967, 161975, 161999, 162017, 162018, 162019, 162021, 162032, 162044, 162059, 162080, 162093, 162104, 162109, 162124, 162127, 162154, 162166, 162173, 162189, 162192, 162197, 162202, 162217, 162233, 162235, 162268, 162281, 162287, 162290, 162330, 162342, 162360, 162367, 162368, 162385, 162393, 162398, 162404, 162415, 162425, 162442, 162447, 162486, 162508, 162531, 162547, 162548, 162561, 162572, 162577, 162599, 162603, 162613, 162619, 162628, 162660, 162664, 162703, 162712, 162723, 162731, 162736, 162737, 162741, 162748, 162749, 162766, 162774, 162796, 162800, 162803, 162823, 162838, 162857, 162858, 162859, 162864, 162865, 162866, 162868, 162880, 162888, 162893, 162901, 162902, 162908, 162909, 162911, 162920, 162926, 162927, 162942, 162945, 162946, 162962, 162975, 162997, 162999, 163000, 163005, 163020, 163023, 163029, 163047, 163049, 163050, 163052, 163066, 163069, 163070, 163071, 163080, 163082, 163092, 163115, 163116, 163121, 163126, 163130, 163137, 163138, 163146, 163151, 163157, 163163, 163167, 163172, 163194, 163197, 163199, 163200, 163206, 163213, 163223, 163242, 163253, 163256, 163268, 163270, 163280, 163283, 163288, 163290, 163295, 163297, 163302, 163305, 163312, 163330, 163333, 163360, 163364, 163371, 163390, 163392, 163398, 163407, 163423, 163438, 163439, 163453, 163455, 163488, 163502, 163519, 163529, 163548, 163549, 163551, 163555, 163559, 163572, 163592, 163593, 163610, 163613, 163614, 163634, 163655, 163660, 163661, 163670, 163684, 163698, 163701, 163706, 163712, 163715, 163718, 163721, 163728, 163730, 163732, 163749, 163797, 163800, 163809, 163813, 163817, 163818, 163822, 163825, 163836, 163856, 163864, 163871, 163878, 163883, 163895, 163900, 163905, 163913, 163922, 163923, 163932, 163971, 163983, 163985, 163996, 163997, 164000, 164027, 164036, 164052, 164058, 164071, 164085, 164092, 164112, 164118, 164120, 164127, 164133, 164135, 164139, 164144, 164148, 164149, 164197, 164209, 164215, 164231, 164235, 164246, 164248, 164254, 164255, 164258, 164271, 164272, 164284, 164298, 164299, 164308, 164311, 164313, 164339, 164342, 164347, 164356, 164364, 164371, 164381, 164386, 164389, 164397, 164408, 164416, 164425, 164442, 164443, 164498, 164510, 164511, 164524, 164544, 164556, 164564, 164578, 164580, 164586, 164587, 164611, 164625, 164637, 164644, 164654, 164658, 164671, 164685, 164693, 164695, 164697, 164704, 164705, 164719, 164722, 164727, 164736, 164738, 164742, 164757, 164758, 164766, 164776, 164788, 164794, 164796, 164797, 164806, 164822, 164831, 164836, 164845, 164855, 164857, 164863, 164866, 164881, 164889, 164893, 164901, 164914, 164917, 164918, 164948, 164967, 164997, 165000, 165008, 165010, 165039, 165040, 165043, 165050, 165054, 165056, 165057, 165060, 165072, 165085, 165101, 165124, 165133, 165141, 165162, 165170, 165174, 165190, 165229, 165236, 165239, 165244, 165247, 165248, 165254, 165285, 165289, 165318, 165327, 165335, 165343, 165353, 165368, 165381, 165403, 165406, 165407, 165417, 165423, 165424, 165449, 165451, 165457, 165466, 165475, 165478, 165481, 165487, 165489, 165500, 165506, 165517, 165518, 165521, 165539, 165555, 165556, 165564, 165568, 165575, 165579, 165580, 165606, 165611, 165615, 165616, 165621, 165624, 165635, 165636, 165641, 165667, 165674, 165677, 165678, 165687, 165688, 165689, 165695, 165699, 165701, 165704, 165711, 165722, 165731, 165735, 165753, 165768, 165776, 165778, 165791, 165793, 165808, 165818, 165829, 165839, 165846, 165847, 165853, 165855, 165865, 165884, 165896, 165898, 165901, 165902, 165908, 165909, 165921, 165929, 165940, 165941, 165963, 165964, 165976, 165989, 166018, 166042, 166045, 166051, 166052, 166056, 166080, 166091, 166100, 166123, 166125, 166144, 166146, 166164, 166166, 166167, 166199, 166205, 166211, 166222, 166226, 166245, 166248, 166251, 166253, 166269, 166273, 166274, 166296, 166302, 166304, 166309, 166316, 166317, 166354, 166357, 166364, 166365, 166367, 166378, 166388, 166396, 166433, 166435, 166445, 166455, 166459, 166462, 166497, 166511, 166512, 166517, 166521, 166523, 166535, 166541, 166544, 166551, 166564, 166572, 166579, 166590, 166591, 166602, 166610, 166616, 166628, 166634, 166637, 166665, 166671, 166680, 166685, 166689, 166694, 166697, 166710, 166736, 166737, 166739, 166754, 166757, 166771, 166773, 166774, 166777, 166783, 166801, 166804, 166808, 166824, 166825, 166839, 166842, 166843, 166855, 166856, 166860, 166863, 166871, 166873, 166880, 166894, 166900, 166909, 166922, 166925, 166927, 166932, 166945, 166955, 166957, 166963, 166969, 166975, 166982, 167002, 167016, 167027, 167038, 167058, 167064, 167068, 167074, 167082, 167083, 167086, 167089, 167106, 167113, 167116, 167131, 167148, 167155, 167158, 167170, 167174, 167178, 167183, 167185, 167194, 167196, 167203, 167229, 167250, 167256, 167263, 167264, 167294, 167302, 167307, 167327, 167337, 167339, 167341, 167343, 167359, 167360, 167362, 167364, 167374, 167378, 167400, 167405, 167406, 167408, 167413, 167423, 167425, 167428, 167458, 167473, 167484, 167489, 167492, 167500, 167508, 167514, 167523, 167533, 167540, 167545, 167549, 167558, 167566, 167571, 167582, 167608, 167620, 167624, 167633, 167634, 167638, 167639, 167641, 167643, 167651, 167657, 167661, 167672, 167681, 167687, 167709, 167713, 167738, 167740, 167746, 167775, 167785, 167788, 167790, 167800, 167809, 167820, 167833, 167835, 167847, 167853, 167855, 167869, 167872, 167883, 167884, 167890, 167900, 167924, 167927, 167934, 167943, 167953, 167956, 167981, 167984, 168016, 168019, 168024, 168026, 168031, 168034, 168044, 168048, 168049, 168066, 168072, 168074, 168080, 168090, 168093, 168095, 168106, 168114, 168118, 168120, 168126, 168156, 168167, 168169, 168174, 168175, 168194, 168205, 168209, 168211, 168222, 168245, 168246, 168283, 168287, 168293, 168313, 168325, 168332, 168337, 168339, 168340, 168351, 168357, 168359, 168361, 168386, 168409, 168417, 168418, 168428, 168429, 168431, 168433, 168440, 168455, 168472, 168477, 168479, 168489, 168491, 168492, 168494, 168499, 168502, 168512, 168513, 168526, 168529, 168542, 168545, 168548, 168555, 168556, 168577, 168581, 168582, 168588, 168594, 168596, 168605, 168616, 168617, 168628, 168633, 168642, 168651, 168657, 168661, 168664, 168674, 168684, 168687, 168688, 168693, 168708, 168713, 168735, 168736, 168739, 168749, 168770, 168783, 168784, 168799, 168801, 168802, 168817, 168824, 168826, 168830, 168854, 168855, 168856, 168861, 168876, 168877, 168883, 168885, 168893, 168895, 168901, 168915, 168921, 168946, 168951, 168955, 168958, 168960, 168969, 168971, 168974, 168979, 168995, 169021, 169027, 169030, 169042, 169048, 169056, 169074, 169103, 169104, 169108, 169109, 169118, 169127, 169142, 169150, 169171, 169184, 169185, 169206, 169216, 169218, 169219, 169223, 169225, 169227, 169238, 169265, 169281, 169284, 169285, 169287, 169288, 169291, 169297, 169309, 169312, 169316, 169331, 169342, 169346, 169351, 169352, 169356, 169362, 169364, 169365, 169374, 169375, 169378, 169382, 169390, 169396, 169409, 169416, 169434, 169451, 169452, 169464, 169466, 169474, 169484, 169485, 169492, 169506, 169511, 169513, 169532, 169534, 169536, 169550, 169579, 169588, 169593, 169605, 169620, 169633, 169636, 169639, 169642, 169658, 169666, 169671, 169674, 169675, 169677, 169685, 169696, 169700, 169704, 169717, 169718, 169743, 169749, 169750, 169754, 169755, 169758, 169764, 169786, 169789, 169792, 169804, 169807, 169824, 169828, 169848, 169850, 169854, 169859, 169860, 169868, 169879, 169880, 169895, 169901, 169902, 169903, 169946, 169961, 169972, 169976, 169977, 169978, 169982, 169994, 170004, 170010, 170019, 170036, 170039, 170046, 170063, 170078, 170082, 170083, 170086, 170089, 170096, 170105, 170109, 170110, 170118, 170139, 170140, 170143, 170153, 170161, 170181, 170188, 170195, 170204, 170209, 170218, 170222, 170232, 170249, 170250, 170264, 170266, 170283, 170287, 170296, 170308, 170309, 170322, 170324, 170342, 170353, 170365, 170368, 170373, 170374, 170378, 170380, 170385, 170391, 170400, 170404, 170407, 170436, 170441, 170444, 170450, 170455, 170459, 170463, 170465, 170473, 170479, 170494, 170498, 170505, 170511, 170529, 170532, 170536, 170544, 170568, 170573, 170607, 170608, 170634, 170647, 170648, 170649, 170655, 170685, 170704, 170708, 170718, 170728, 170753, 170762, 170789, 170793, 170801, 170822, 170823, 170826, 170829, 170830, 170835, 170837, 170840, 170845, 170852, 170855, 170857, 170858, 170879, 170893, 170906, 170911, 170950, 170970, 170977, 170982, 171002, 171004, 171023, 171031, 171032, 171033, 171036, 171052, 171054, 171070, 171074, 171076, 171088, 171092, 171093, 171102, 171111, 171120, 171136, 171141, 171150, 171165, 171183, 171196, 171213, 171254, 171257, 171263, 171270, 171279, 171280, 171283, 171285, 171287, 171311, 171318, 171320, 171339, 171341, 171361, 171362, 171372, 171376, 171381, 171392, 171408, 171418, 171430, 171439, 171453, 171463, 171477, 171479, 171501, 171502, 171503, 171505, 171506, 171512, 171515, 171520, 171528, 171536, 171538, 171561, 171576, 171579, 171584, 171621, 171635, 171637, 171642, 171645, 171653, 171656, 171662, 171705, 171714, 171717, 171724, 171729, 171731, 171738, 171749, 171752, 171753, 171760, 171786, 171790, 171819, 171832, 171842, 171844, 171847, 171848, 171854, 171879, 171907, 171908, 171910, 171915, 171932, 171954, 171962, 171965, 171974, 171980, 171990, 171997, 172011, 172017, 172022, 172025, 172029, 172036, 172037, 172041, 172061, 172087, 172090, 172099, 172117, 172127, 172132, 172136, 172139, 172144, 172152, 172177, 172178, 172190, 172205, 172209, 172215, 172217, 172218, 172226, 172241, 172243, 172248, 172261, 172273, 172278, 172280, 172285, 172303, 172305, 172307, 172308, 172315, 172317, 172322, 172346, 172365, 172370, 172375, 172377, 172386, 172387, 172390, 172395, 172396, 172416, 172417, 172424, 172441, 172444, 172452, 172467, 172479, 172487, 172492, 172494, 172496, 172501, 172509, 172519, 172528, 172545, 172556, 172565, 172568, 172591, 172592, 172598, 172615, 172618, 172620, 172622, 172648, 172666, 172667, 172679, 172683, 172684, 172686, 172687, 172688, 172716, 172718, 172729, 172752, 172756, 172757, 172774, 172775, 172780, 172792, 172793, 172800, 172806, 172808, 172814, 172820, 172826, 172829, 172840, 172846, 172855, 172856, 172885, 172897, 172903, 172906, 172924, 172926, 172936, 172937, 172943, 172945, 172947, 172988, 173007, 173025, 173030, 173037, 173039, 173047, 173074, 173076, 173083, 173108, 173111, 173120, 173127, 173139, 173146, 173162, 173173, 173176, 173194, 173199, 173213, 173216, 173223, 173233, 173234, 173236, 173252, 173257, 173259, 173262, 173267, 173272, 173274, 173280, 173291, 173299, 173310, 173311, 173322, 173325, 173329, 173331, 173333, 173350, 173354, 173364, 173374, 173385, 173392, 173394, 173400, 173408, 173419, 173422, 173436, 173443, 173445, 173447, 173485, 173490, 173496, 173503, 173508, 173530, 173531, 173542, 173546, 173561, 173564, 173569, 173575, 173618, 173629, 173654, 173656, 173668, 173672, 173687, 173690, 173705, 173726, 173727, 173731, 173733, 173739, 173747, 173765, 173787, 173794, 173799, 173806, 173807, 173808, 173809, 173811, 173814, 173819, 173828, 173838, 173839, 173840, 173841, 173857, 173863, 173869, 173870, 173882, 173888, 173904, 173945, 173949, 173966, 173983, 173984, 174007, 174008, 174015, 174022, 174028, 174059, 174083, 174088, 174115, 174117, 174119, 174135, 174143, 174152, 174172, 174181, 174184, 174193, 174196, 174202, 174209, 174217, 174232, 174241, 174243, 174249, 174252, 174269, 174275, 174284, 174285, 174292, 174293, 174298, 174303, 174309, 174311, 174321, 174348, 174360, 174367, 174384, 174389, 174392, 174395, 174428, 174441, 174451, 174455, 174457, 174465, 174476, 174477, 174492, 174493, 174500, 174502, 174504, 174522, 174538, 174542, 174551, 174556, 174557, 174575, 174586, 174588, 174619, 174630, 174639, 174644, 174650, 174651, 174664, 174677, 174680, 174708, 174717, 174729, 174742, 174746, 174755, 174757, 174766, 174768, 174776, 174796, 174804, 174812, 174818, 174820, 174833, 174834, 174842, 174845, 174863, 174870, 174872, 174877, 174883, 174909, 174920, 174925, 174926, 174930, 174935, 174947, 174960, 174966, 174972, 174979, 174988, 174994, 175002, 175008, 175013, 175021, 175051, 175053, 175072, 175074, 175088, 175100, 175102, 175114, 175130, 175131, 175143, 175144, 175152, 175162, 175168, 175170, 175177, 175180, 175184, 175208, 175239, 175244, 175248, 175255, 175256, 175274, 175280, 175295, 175300, 175312, 175313, 175327, 175334, 175357, 175371, 175379, 175382, 175386, 175387, 175410, 175413, 175443, 175449, 175466, 175476, 175477, 175495, 175520, 175527, 175529, 175533, 175584, 175604, 175612, 175639, 175644, 175654, 175675, 175691, 175707, 175710, 175711, 175740, 175741, 175746, 175751, 175752, 175757, 175760, 175771, 175774, 175776, 175794, 175804, 175830, 175835, 175837, 175840, 175871, 175872, 175879, 175881, 175883, 175890, 175899, 175900, 175916, 175933, 175936, 175939, 175943, 175949, 175954, 175986, 175996, 175999, 176002, 176023, 176025, 176038, 176060, 176063, 176064, 176072, 176081, 176085, 176097, 176098, 176102, 176112, 176117, 176121, 176122, 176156, 176159, 176173, 176186, 176197, 176205, 176233, 176242, 176247, 176248, 176251, 176252, 176262, 176270, 176279, 176280, 176295, 176302, 176305, 176307, 176309, 176318, 176322, 176323, 176329, 176337, 176345, 176350, 176371, 176387, 176389, 176392, 176395, 176400, 176403, 176413, 176415, 176420, 176433, 176440, 176442, 176453, 176457, 176459, 176461, 176466, 176480, 176484, 176489, 176504, 176509, 176521, 176524, 176536, 176560, 176561, 176563, 176570, 176575, 176578, 176584, 176589, 176597, 176599, 176605, 176626, 176637, 176638, 176639, 176648, 176651, 176653, 176662, 176680, 176687, 176688, 176705, 176710, 176711, 176726, 176727, 176743, 176745, 176752, 176757, 176761, 176763, 176781, 176799, 176802, 176805, 176809, 176812, 176829, 176831, 176851, 176854, 176857, 176868, 176879, 176881, 176884, 176889, 176913, 176919, 176920, 176936, 176938, 176940, 176941, 176942, 176952, 176964, 176971, 176973, 176976, 176979, 176984, 176990, 176995, 177001, 177003, 177004, 177008, 177027, 177028, 177036, 177058, 177083, 177090, 177104, 177108, 177112, 177119, 177123, 177127, 177144, 177166, 177171, 177172, 177190, 177195, 177201, 177208, 177210, 177229, 177249, 177254, 177259, 177262, 177281, 177284, 177309, 177312, 177322, 177333, 177353, 177354, 177355, 177360, 177366, 177369, 177384, 177386, 177404, 177409, 177423, 177424, 177430, 177439, 177449, 177464, 177473, 177483, 177488, 177495, 177502, 177507, 177511, 177513, 177516, 177525, 177527, 177540, 177552, 177564, 177568, 177570, 177577, 177600, 177605, 177607, 177608, 177624, 177628, 177635, 177644, 177647, 177664, 177669, 177688, 177689, 177691, 177692, 177707, 177713, 177717, 177739, 177740, 177747, 177754, 177756, 177757, 177767, 177784, 177790, 177791, 177794, 177796, 177797, 177808, 177810, 177811, 177819, 177827, 177860, 177865, 177870, 177872, 177886, 177891, 177893, 177909, 177914, 177941, 177949, 177950, 177961, 177974, 177977, 177986, 177991, 178002, 178019, 178051, 178063, 178088, 178101, 178102, 178104, 178105, 178110, 178114, 178125, 178128, 178138, 178145, 178151, 178154, 178161, 178172, 178176, 178225, 178247, 178254, 178261, 178267, 178268, 178271, 178272, 178277, 178301, 178305, 178308, 178310, 178327, 178343, 178349, 178351, 178361, 178376, 178379, 178382, 178387, 178390, 178402, 178405, 178423, 178431, 178434, 178460, 178475, 178490, 178493, 178502, 178503, 178508, 178511, 178523, 178528, 178534, 178550, 178559, 178579, 178594, 178598, 178602, 178603, 178606, 178635, 178658, 178660, 178666, 178671, 178676, 178687, 178697, 178718, 178729, 178737, 178743, 178755, 178764, 178765, 178775, 178799, 178805, 178824, 178837, 178841, 178857, 178862, 178866, 178882, 178886, 178891, 178899, 178908, 178910, 178913, 178917, 178918, 178929, 178937, 178940, 178942, 178944, 178950, 178954, 178955, 178963, 178971, 178972, 178991, 178995, 179024, 179028, 179035, 179049, 179054, 179055, 179057, 179075, 179081, 179096, 179098, 179099, 179123, 179126, 179134, 179135, 179166, 179188, 179189, 179234, 179255, 179259, 179263, 179265, 179282, 179283, 179291, 179301, 179305, 179306, 179325, 179335, 179337, 179339, 179342, 179343, 179346, 179350, 179356, 179363, 179364, 179371, 179378, 179384, 179392, 179398, 179407, 179410, 179417, 179432, 179435, 179437, 179452, 179455, 179476, 179483, 179491, 179494, 179496, 179526, 179529, 179531, 179536, 179537, 179547, 179557, 179563, 179576, 179578, 179593, 179624, 179637, 179643, 179649, 179666, 179669, 179678, 179681, 179683, 179685, 179695, 179701, 179708, 179721, 179727, 179730, 179731, 179746, 179747, 179749, 179777, 179790, 179802, 179805, 179814, 179817, 179824, 179837, 179844, 179846, 179854, 179858, 179861, 179865, 179878, 179891, 179899, 179903, 179904, 179921, 179938, 179969, 179971, 179972, 179991, 179992, 179999]\n",
      "Completed in 0.0000 hours\n",
      "Sanitized I Dataset: (17698, 28, 28) (17698,)\n"
     ]
    }
   ],
   "source": [
    "\"\"\"\n",
    "Delete duplicate image between training and test datasets in new sanitized class I dataset with np.delete\n",
    "\"\"\"\n",
    "print('I Class Training Duplication Index List',training_index_list_I)\n",
    "\n",
    "# Define temporary  dataset and labels np arrays for image class to address np.delete max index limitation\n",
    "array_size = 20000\n",
    "start_splice = 160000\n",
    "end_splice = 180000\n",
    "temp_dataset = np.ndarray((array_size, 28, 28), dtype=np.float32)\n",
    "temp_dataset = train_dataset[start_splice:end_splice,0:28,0:28]\n",
    "temp_labels = np.ndarray(array_size, dtype=np.int32)\n",
    "temp_labels= train_labels[start_splice:end_splice,]\n",
    "\n",
    "# Define offset index list of image class duplicates\n",
    "offset_training_index_list = []\n",
    "index_offset = 160000\n",
    "#Loop for index to offset\n",
    "for i in range(0,len(training_index_list_I)):\n",
    "    offset_training_index_list.append(training_index_list_I[i]-index_offset)\n",
    "start = time()\n",
    "# Create new sanitized class dataset without duplicate images\n",
    "sanitized_I_dataset = np.delete(temp_dataset[0:array_size,0:28,0:28],offset_training_index_list,0)\n",
    "# Create new sanitized label array\n",
    "sanitized_I_labels = np.delete(temp_labels[0:array_size,],offset_training_index_list,0)\n",
    "end = time()       \n",
    "\n",
    "print('Completed in {:.4f} hours'.format((end-start)/3600.0))\n",
    "print('Sanitized I Dataset:', sanitized_I_dataset.shape, sanitized_I_labels.shape)\n"
   ]
  },
  {
   "cell_type": "code",
   "execution_count": 50,
   "metadata": {},
   "outputs": [
    {
     "name": "stdout",
     "output_type": "stream",
     "text": [
      "Completed in 0.0256 hours\n",
      "127 Duplicate I Images with Valid Dataset\n",
      "Second Sanitized I Duplicate Index List [102, 356, 382, 540, 764, 765, 830, 1025, 1299, 1377, 1382, 1695, 1707, 1952, 1976, 2067, 2096, 2365, 2443, 2454, 2533, 2674, 2758, 2924, 3075, 3449, 3458, 3488, 3707, 3816, 4449, 4555, 4755, 4831, 4952, 5403, 5420, 5448, 5573, 5666, 5902, 5967, 5988, 5992, 6279, 6294, 6487, 6695, 6900, 6918, 7117, 7566, 7639, 7651, 7825, 7903, 8394, 8466, 8472, 8658, 8738, 8799, 8949, 8953, 9109, 9166, 9800, 9929, 10105, 10276, 10710, 10755, 10840, 10920, 11196, 11313, 11319, 11507, 11620, 12044, 12148, 12348, 12477, 12671, 12713, 12721, 12845, 12952, 12969, 13025, 13384, 13422, 13489, 13666, 13672, 13733, 13748, 13796, 13816, 13867, 14003, 14117, 14389, 14391, 14410, 14496, 14697, 14880, 15050, 15088, 15094, 15180, 15346, 15647, 15687, 15703, 15730, 15830, 15834, 16222, 16417, 16447, 17125, 17146, 17292, 17365, 17417]\n"
     ]
    }
   ],
   "source": [
    "\n",
    "#Compare eight(I) classes between sanitized training and valid datasets for validation\n",
    "sanitized_second_index_list_I = []\n",
    "sanitized_second_duplicate_count_I = 0\n",
    "array_range = sanitized_I_dataset.shape[0]\n",
    "start = time()\n",
    "for i in range(0,array_range):\n",
    "    for j in range(8000,9000):\n",
    "        if (np.array_equal(sanitized_I_dataset[i,0:28,0:28],valid_dataset[j,0:28,0:28])):\n",
    "            sanitized_second_index_list_I.append(i)\n",
    "            sanitized_second_duplicate_count_I +=1\n",
    "            break\n",
    "end = time()\n",
    "print('Completed in {:.4f} hours'.format((end-start)/3600.0))\n",
    "print('{} Duplicate I Images with Valid Dataset'.format(sanitized_second_duplicate_count_I))\n",
    "print('Second Sanitized I Duplicate Index List',sanitized_second_index_list_I)\n",
    "\n",
    "    \n",
    "    "
   ]
  },
  {
   "cell_type": "code",
   "execution_count": 51,
   "metadata": {},
   "outputs": [
    {
     "name": "stdout",
     "output_type": "stream",
     "text": [
      "Second Sanitized I Duplicate Index List [102, 356, 382, 540, 764, 765, 830, 1025, 1299, 1377, 1382, 1695, 1707, 1952, 1976, 2067, 2096, 2365, 2443, 2454, 2533, 2674, 2758, 2924, 3075, 3449, 3458, 3488, 3707, 3816, 4449, 4555, 4755, 4831, 4952, 5403, 5420, 5448, 5573, 5666, 5902, 5967, 5988, 5992, 6279, 6294, 6487, 6695, 6900, 6918, 7117, 7566, 7639, 7651, 7825, 7903, 8394, 8466, 8472, 8658, 8738, 8799, 8949, 8953, 9109, 9166, 9800, 9929, 10105, 10276, 10710, 10755, 10840, 10920, 11196, 11313, 11319, 11507, 11620, 12044, 12148, 12348, 12477, 12671, 12713, 12721, 12845, 12952, 12969, 13025, 13384, 13422, 13489, 13666, 13672, 13733, 13748, 13796, 13816, 13867, 14003, 14117, 14389, 14391, 14410, 14496, 14697, 14880, 15050, 15088, 15094, 15180, 15346, 15647, 15687, 15703, 15730, 15830, 15834, 16222, 16417, 16447, 17125, 17146, 17292, 17365, 17417]\n",
      "Completed in 0.0000 hours\n",
      "Second Sanitized I Dataset: (17571, 28, 28) (17571,)\n"
     ]
    }
   ],
   "source": [
    "\"\"\"\n",
    "Delete duplicate image between the sanitized training and valid datasets in a new sanitized class I dataset with np.delete\n",
    "\"\"\"\n",
    "print('Second Sanitized I Duplicate Index List',sanitized_second_index_list_I)\n",
    "first_dataset_size = sanitized_I_dataset.shape[0]\n",
    "start = time()\n",
    "# Create new sanitized class dataset without duplicate images\n",
    "sanitized_second_I_dataset = np.delete(sanitized_I_dataset[0:first_dataset_size,0:28,0:28],sanitized_second_index_list_I,0)\n",
    "# Create new sanitized label array\n",
    "sanitized_second_I_labels = np.delete(sanitized_I_labels[0:first_dataset_size,],sanitized_second_index_list_I,0)\n",
    "end = time()       \n",
    "\n",
    "print('Completed in {:.4f} hours'.format((end-start)/3600.0))\n",
    "print('Second Sanitized I Dataset:', sanitized_second_I_dataset.shape, sanitized_second_I_labels.shape)\n"
   ]
  },
  {
   "cell_type": "code",
   "execution_count": 52,
   "metadata": {},
   "outputs": [
    {
     "data": {
      "text/plain": [
       "[<matplotlib.lines.Line2D at 0x22d138f89e8>]"
      ]
     },
     "execution_count": 52,
     "metadata": {},
     "output_type": "execute_result"
    },
    {
     "data": {
      "image/png": "[encoded data removed]",
      "text/plain": [
       "<matplotlib.figure.Figure at 0x22d138f8a90>"
      ]
     },
     "metadata": {},
     "output_type": "display_data"
    }
   ],
   "source": [
    "plt.title('Sanitized I Labels Scatter Plot')\n",
    "plt.plot(np.arange(1,(len(sanitized_second_I_labels)+1)),sanitized_second_I_labels,\"o\")"
   ]
  },
  {
   "cell_type": "code",
   "execution_count": 53,
   "metadata": {},
   "outputs": [
    {
     "name": "stdout",
     "output_type": "stream",
     "text": [
      "Completed in 0.0377 hours\n",
      "133 Duplicate J Images\n"
     ]
    }
   ],
   "source": [
    "#Compare nine(J) classes between training and test datasets\n",
    "training_index_list_J = []\n",
    "duplicate_count_J = 0\n",
    "start = time()\n",
    "for i in range(180000,200000):\n",
    "    for j in range(9000,10000):\n",
    "        if (np.array_equal(train_dataset[i,0:28,0:28],test_dataset[j,0:28,0:28])):\n",
    "            training_index_list_J.append(i)\n",
    "            duplicate_count_J +=1\n",
    "            break\n",
    "end = time()\n",
    "print('Completed in {:.4f} hours'.format((end-start)/3600.0))\n",
    "print('{} Duplicate J Images'.format(duplicate_count_J))\n",
    "\n",
    "    \n",
    "    "
   ]
  },
  {
   "cell_type": "code",
   "execution_count": 54,
   "metadata": {},
   "outputs": [
    {
     "name": "stdout",
     "output_type": "stream",
     "text": [
      "J Class Training Duplication Index List [180097, 180256, 180355, 180611, 180653, 180697, 180841, 180977, 181058, 181322, 182084, 182169, 182771, 182822, 182938, 183165, 183259, 183579, 183581, 183638, 183832, 183893, 183920, 184172, 184659, 185181, 185191, 185309, 185684, 185944, 186031, 186239, 186300, 186305, 186611, 186619, 186650, 187459, 187494, 187588, 187625, 187770, 188169, 188330, 188558, 188593, 188731, 188762, 188889, 189178, 189384, 189454, 189633, 189678, 189786, 189798, 189857, 189858, 190014, 190059, 190145, 190249, 190265, 190314, 190391, 190560, 190600, 190655, 190737, 190935, 191087, 191108, 191218, 191265, 191497, 191664, 191693, 191756, 191809, 192620, 192670, 192710, 192838, 192860, 192949, 192988, 193115, 193130, 193499, 193572, 193723, 194151, 194410, 194420, 194481, 194533, 194758, 194919, 194995, 195142, 195314, 195341, 195694, 195841, 196075, 196273, 196399, 196430, 196436, 196532, 196589, 196695, 196775, 196999, 197237, 197383, 197406, 197424, 197440, 197586, 197617, 197651, 197804, 197833, 198604, 199001, 199105, 199268, 199288, 199482, 199894, 199942, 199963]\n",
      "Completed in 0.0000 hours\n",
      "Sanitized J Dataset: (19867, 28, 28) (19867,)\n"
     ]
    }
   ],
   "source": [
    "\"\"\"\n",
    "Delete duplicate image between training and test datasets in new sanitized class J dataset with np.delete\n",
    "\"\"\"\n",
    "print('J Class Training Duplication Index List',training_index_list_J)\n",
    "\n",
    "# Define temporary  dataset and labels np arrays for image class to address np.delete max index limitation\n",
    "array_size = 20000\n",
    "start_splice = 180000\n",
    "end_splice = 200000\n",
    "temp_dataset = np.ndarray((array_size, 28, 28), dtype=np.float32)\n",
    "temp_dataset = train_dataset[start_splice:end_splice,0:28,0:28]\n",
    "temp_labels = np.ndarray(array_size, dtype=np.int32)\n",
    "temp_labels= train_labels[start_splice:end_splice,]\n",
    "\n",
    "# Define offset index list of image class duplicates\n",
    "offset_training_index_list = []\n",
    "index_offset = 180000\n",
    "#Loop for index to offset\n",
    "for i in range(0,len(training_index_list_J)):\n",
    "    offset_training_index_list.append(training_index_list_J[i]-index_offset)\n",
    "    \n",
    "start = time()\n",
    "# Create new sanitized class dataset without duplicate images\n",
    "sanitized_J_dataset = np.delete(temp_dataset[0:array_size,0:28,0:28],offset_training_index_list,0)\n",
    "# Create new sanitized label array\n",
    "sanitized_J_labels = np.delete(temp_labels[0:array_size,],offset_training_index_list,0)\n",
    "end = time()       \n",
    "\n",
    "print('Completed in {:.4f} hours'.format((end-start)/3600.0))\n",
    "print('Sanitized J Dataset:', sanitized_J_dataset.shape, sanitized_J_labels.shape)\n"
   ]
  },
  {
   "cell_type": "code",
   "execution_count": 55,
   "metadata": {},
   "outputs": [
    {
     "name": "stdout",
     "output_type": "stream",
     "text": [
      "Completed in 0.0316 hours\n",
      "102 Duplicate J Images with Valid Dataset\n",
      "Second Sanitized J Duplicate Index List [18, 195, 242, 273, 610, 846, 881, 1211, 1374, 1442, 1540, 1951, 2119, 2271, 2515, 2617, 2757, 2774, 3246, 3335, 3544, 3554, 3558, 3728, 3788, 3949, 4318, 4582, 4609, 4632, 4981, 5469, 5493, 6033, 6172, 6305, 6324, 7073, 7249, 7443, 7469, 7524, 8332, 8595, 8614, 8776, 8952, 9189, 9339, 9389, 9404, 9788, 9915, 10132, 10361, 10555, 10679, 10964, 11032, 11041, 11191, 11464, 11605, 11688, 11718, 11800, 11819, 12073, 12504, 12915, 13299, 13356, 13776, 13885, 13923, 14143, 14356, 14773, 14787, 14827, 15550, 15611, 15768, 16075, 16328, 16424, 16664, 16750, 16829, 17031, 17194, 17500, 17789, 17983, 17997, 18534, 18543, 18636, 19472, 19645, 19710, 19765]\n"
     ]
    }
   ],
   "source": [
    "\n",
    "#Compare nine(J) classes between sanitized training and valid datasets for validation\n",
    "sanitized_second_index_list_J = []\n",
    "sanitized_second_duplicate_count_J = 0\n",
    "array_range = sanitized_J_dataset.shape[0]\n",
    "start = time()\n",
    "for i in range(0,array_range):\n",
    "    for j in range(9000,10000):\n",
    "        if (np.array_equal(sanitized_J_dataset[i,0:28,0:28],valid_dataset[j,0:28,0:28])):\n",
    "            sanitized_second_index_list_J.append(i)\n",
    "            sanitized_second_duplicate_count_J +=1\n",
    "            break\n",
    "end = time()\n",
    "print('Completed in {:.4f} hours'.format((end-start)/3600.0))\n",
    "print('{} Duplicate J Images with Valid Dataset'.format(sanitized_second_duplicate_count_J))\n",
    "print('Second Sanitized J Duplicate Index List',sanitized_second_index_list_J)\n",
    "\n",
    "    \n",
    "    "
   ]
  },
  {
   "cell_type": "code",
   "execution_count": 56,
   "metadata": {},
   "outputs": [
    {
     "name": "stdout",
     "output_type": "stream",
     "text": [
      "Second Sanitized J Duplicate Index List [18, 195, 242, 273, 610, 846, 881, 1211, 1374, 1442, 1540, 1951, 2119, 2271, 2515, 2617, 2757, 2774, 3246, 3335, 3544, 3554, 3558, 3728, 3788, 3949, 4318, 4582, 4609, 4632, 4981, 5469, 5493, 6033, 6172, 6305, 6324, 7073, 7249, 7443, 7469, 7524, 8332, 8595, 8614, 8776, 8952, 9189, 9339, 9389, 9404, 9788, 9915, 10132, 10361, 10555, 10679, 10964, 11032, 11041, 11191, 11464, 11605, 11688, 11718, 11800, 11819, 12073, 12504, 12915, 13299, 13356, 13776, 13885, 13923, 14143, 14356, 14773, 14787, 14827, 15550, 15611, 15768, 16075, 16328, 16424, 16664, 16750, 16829, 17031, 17194, 17500, 17789, 17983, 17997, 18534, 18543, 18636, 19472, 19645, 19710, 19765]\n",
      "Completed in 0.0000 hours\n",
      "Second Sanitized J Dataset: (19765, 28, 28) (19765,)\n"
     ]
    }
   ],
   "source": [
    "\"\"\"\n",
    "Delete duplicate image between the sanitized training and valid datasets in a new sanitized class J dataset\n",
    "with np.delete\n",
    "\"\"\"\n",
    "print('Second Sanitized J Duplicate Index List',sanitized_second_index_list_J)\n",
    "first_dataset_size = sanitized_J_dataset.shape[0]\n",
    "start = time()\n",
    "# Create new sanitized class dataset without duplicate images\n",
    "sanitized_second_J_dataset = np.delete(sanitized_J_dataset[0:first_dataset_size,0:28,0:28],\\\n",
    "                                       sanitized_second_index_list_J,0)\n",
    "# Create new sanitized label array\n",
    "sanitized_second_J_labels = np.delete(sanitized_J_labels[0:first_dataset_size,],sanitized_second_index_list_J,0)\n",
    "end = time()       \n",
    "\n",
    "print('Completed in {:.4f} hours'.format((end-start)/3600.0))\n",
    "print('Second Sanitized J Dataset:', sanitized_second_J_dataset.shape, sanitized_second_J_labels.shape)\n",
    "\n"
   ]
  },
  {
   "cell_type": "code",
   "execution_count": 57,
   "metadata": {},
   "outputs": [
    {
     "data": {
      "text/plain": [
       "[<matplotlib.lines.Line2D at 0x22d1a2d1cf8>]"
      ]
     },
     "execution_count": 57,
     "metadata": {},
     "output_type": "execute_result"
    },
    {
     "data": {
      "image/png": "[encoded data removed]",
      "text/plain": [
       "<matplotlib.figure.Figure at 0x22d1a2d1438>"
      ]
     },
     "metadata": {},
     "output_type": "display_data"
    }
   ],
   "source": [
    "plt.title('Sanitized J Labels Scatter Plot')\n",
    "plt.plot(np.arange(1,(len(sanitized_second_J_labels)+1)),sanitized_second_J_labels,\"o\")"
   ]
  },
  {
   "cell_type": "code",
   "execution_count": 58,
   "metadata": {},
   "outputs": [
    {
     "data": {
      "text/plain": [
       "[<matplotlib.lines.Line2D at 0x22d68c26048>]"
      ]
     },
     "execution_count": 58,
     "metadata": {},
     "output_type": "execute_result"
    },
    {
     "data": {
      "image/png": "[encoded data removed]",
      "text/plain": [
       "<matplotlib.figure.Figure at 0x22d68c26b38>"
      ]
     },
     "metadata": {},
     "output_type": "display_data"
    }
   ],
   "source": [
    "plt.title('Valid Label Scatter Plot')\n",
    "plt.plot(np.arange(1,(len(valid_labels)+1)),valid_labels,\"o\")"
   ]
  },
  {
   "cell_type": "code",
   "execution_count": 59,
   "metadata": {},
   "outputs": [
    {
     "name": "stdout",
     "output_type": "stream",
     "text": [
      "Total number of sanitized images is 195307\n",
      "Sanitized images class number list [19793, 19748, 19744, 19739, 19761, 19759, 19763, 19664, 17571, 19765]\n",
      "Sanitized Dataset and Labels: (195307, 28, 28) (195307,)\n"
     ]
    }
   ],
   "source": [
    "\"\"\"\n",
    "Combine all sanitized image classes into a single sanitized training dataset with no duplicates with the test\n",
    "and validate dataset\n",
    "\"\"\"\n",
    "\n",
    "#Define list for the number of sanitized images in a  class\n",
    "class_image_number_list = []\n",
    "\n",
    "#Set number of sanitized images in each class\n",
    "class_image_number_list.append(sanitized_second_A_dataset.shape[0])\n",
    "class_image_number_list.append(sanitized_second_B_dataset.shape[0])\n",
    "class_image_number_list.append(sanitized_second_C_dataset.shape[0])\n",
    "class_image_number_list.append(sanitized_second_D_dataset.shape[0])\n",
    "class_image_number_list.append(sanitized_second_E_dataset.shape[0])\n",
    "class_image_number_list.append(sanitized_second_F_dataset.shape[0])\n",
    "class_image_number_list.append(sanitized_second_G_dataset.shape[0])\n",
    "class_image_number_list.append(sanitized_second_H_dataset.shape[0])\n",
    "class_image_number_list.append(sanitized_second_I_dataset.shape[0])\n",
    "class_image_number_list.append(sanitized_second_J_dataset.shape[0])\n",
    "\n",
    "#Define list of the class dataset np array names\n",
    "image_class_names = [sanitized_second_A_dataset, sanitized_second_B_dataset, sanitized_second_C_dataset,\\\n",
    "                    sanitized_second_D_dataset, sanitized_second_E_dataset, sanitized_second_F_dataset,\\\n",
    "                    sanitized_second_G_dataset,sanitized_second_H_dataset, sanitized_second_I_dataset,\\\n",
    "                    sanitized_second_J_dataset]\n",
    "\n",
    "#Define list of the class labels np array names\n",
    "image_label_names = [sanitized_second_A_labels, sanitized_second_B_labels, sanitized_second_C_labels,\\\n",
    "                    sanitized_second_D_labels, sanitized_second_E_labels, sanitized_second_F_labels,\\\n",
    "                    sanitized_second_G_labels, sanitized_second_H_labels, sanitized_second_I_labels,\\\n",
    "                    sanitized_second_J_labels]\n",
    "\n",
    "#Compute total number of sanitized images\n",
    "sanitized_total_images = sum(class_image_number_list)\n",
    "print('Total number of sanitized images is',sanitized_total_images)\n",
    "print('Sanitized images class number list',class_image_number_list)\n",
    "\n",
    "#Define image dimension\n",
    "img_size = 28\n",
    "\n",
    "#Initialize np array for the sanitized dataset\n",
    "sanitized_train_dataset = np.ndarray((sanitized_total_images, img_size, img_size), dtype=np.float32)\n",
    "sanitized_train_labels = np.ndarray(sanitized_total_images, dtype=np.int32)\n",
    "\n",
    "#Initialize splice start and end values\n",
    "start_splice = 0\n",
    "end_splice = 0\n",
    "\n",
    "#Loop to combine sanitized images and labels into single companion datasets\n",
    "for i in range(0,len(class_image_number_list)):\n",
    "    end_splice = start_splice + class_image_number_list[i]\n",
    "    sanitized_train_dataset[start_splice:end_splice,0:img_size,0:img_size]=image_class_names[i]\n",
    "    sanitized_train_labels[start_splice:end_splice,]=image_label_names[i]\n",
    "    start_splice += class_image_number_list[i]\n",
    "\n",
    "print('Sanitized Dataset and Labels:', sanitized_train_dataset.shape, sanitized_train_labels.shape)   \n"
   ]
  },
  {
   "cell_type": "code",
   "execution_count": 70,
   "metadata": {},
   "outputs": [
    {
     "data": {
      "text/plain": [
       "[<matplotlib.lines.Line2D at 0x1b9a6ea3470>]"
      ]
     },
     "execution_count": 70,
     "metadata": {},
     "output_type": "execute_result"
    },
    {
     "data": {
      "image/png": "[encoded data removed]",
      "text/plain": [
       "<matplotlib.figure.Figure at 0x1b9a6ea34a8>"
      ]
     },
     "metadata": {},
     "output_type": "display_data"
    }
   ],
   "source": [
    "plt.title('Sanitized Training Labels Scatter Plot')\n",
    "plt.plot(np.arange(1,(len(sanitized_train_labels)+1)),sanitized_train_labels,\"o\")"
   ]
  },
  {
   "cell_type": "markdown",
   "metadata": {},
   "source": [
    "Next, we'll randomize the data. It's important to have the labels well shuffled for the training and test distributions to match"
   ]
  },
  {
   "cell_type": "code",
   "execution_count": 60,
   "metadata": {
    "collapsed": true
   },
   "outputs": [],
   "source": [
    "def randomize(dataset, labels):\n",
    "  permutation = np.random.permutation(labels.shape[0])\n",
    "  shuffled_dataset = dataset[permutation,:,:]\n",
    "  shuffled_labels = labels[permutation]\n",
    "  return shuffled_dataset, shuffled_labels\n",
    "train_dataset, train_labels = randomize(train_dataset, train_labels)\n",
    "test_dataset, test_labels = randomize(test_dataset, test_labels)\n",
    "valid_dataset, valid_labels = randomize(valid_dataset, valid_labels)\n",
    "rand_sanit_dataset,rand_sanit_labels = randomize(sanitized_train_dataset, sanitized_train_labels)"
   ]
  },
  {
   "cell_type": "markdown",
   "metadata": {},
   "source": [
    "Verify dataset image labels randomly shuffled"
   ]
  },
  {
   "cell_type": "code",
   "execution_count": 61,
   "metadata": {},
   "outputs": [
    {
     "data": {
      "text/plain": [
       "[<matplotlib.lines.Line2D at 0x22d1390f1d0>]"
      ]
     },
     "execution_count": 61,
     "metadata": {},
     "output_type": "execute_result"
    },
    {
     "data": {
      "image/png": "[encoded data removed]",
      "text/plain": [
       "<matplotlib.figure.Figure at 0x22d5c6a2dd8>"
      ]
     },
     "metadata": {},
     "output_type": "display_data"
    }
   ],
   "source": [
    "plt.title('Random Sanitized Label Scatter Plot')\n",
    "plt.plot(np.arange(1,(len(rand_sanit_labels)+1)),rand_sanit_labels,\"o\")"
   ]
  },
  {
   "cell_type": "code",
   "execution_count": 62,
   "metadata": {},
   "outputs": [
    {
     "data": {
      "text/plain": [
       "[<matplotlib.lines.Line2D at 0x22d21a4dda0>]"
      ]
     },
     "execution_count": 62,
     "metadata": {},
     "output_type": "execute_result"
    },
    {
     "data": {
      "image/png": "[encoded data removed]",
      "text/plain": [
       "<matplotlib.figure.Figure at 0x22d21a4dc18>"
      ]
     },
     "metadata": {},
     "output_type": "display_data"
    }
   ],
   "source": [
    "plt.title('Training Label Scatter Plot')\n",
    "plt.plot(np.arange(1,(len(train_labels)+1)),train_labels,\"o\")"
   ]
  },
  {
   "cell_type": "code",
   "execution_count": 63,
   "metadata": {},
   "outputs": [
    {
     "data": {
      "text/plain": [
       "[<matplotlib.lines.Line2D at 0x22d21a3b9b0>]"
      ]
     },
     "execution_count": 63,
     "metadata": {},
     "output_type": "execute_result"
    },
    {
     "data": {
      "image/png": "[encoded data removed]",
      "text/plain": [
       "<matplotlib.figure.Figure at 0x22d21a907f0>"
      ]
     },
     "metadata": {},
     "output_type": "display_data"
    }
   ],
   "source": [
    "plt.title('Test Label Scatter Plot')\n",
    "plt.plot(np.arange(1,(len(test_labels)+1)),test_labels,\"o\")"
   ]
  },
  {
   "cell_type": "code",
   "execution_count": 64,
   "metadata": {},
   "outputs": [
    {
     "data": {
      "text/plain": [
       "[<matplotlib.lines.Line2D at 0x22d21ac4c50>]"
      ]
     },
     "execution_count": 64,
     "metadata": {},
     "output_type": "execute_result"
    },
    {
     "data": {
      "image/png": "[encoded data removed]",
      "text/plain": [
       "<matplotlib.figure.Figure at 0x22d21ac4c88>"
      ]
     },
     "metadata": {},
     "output_type": "display_data"
    }
   ],
   "source": [
    "plt.title('Valid Label Scatter Plot')\n",
    "plt.plot(np.arange(1,(len(valid_labels)+1)),valid_labels,\"o\")"
   ]
  },
  {
   "cell_type": "markdown",
   "metadata": {},
   "source": [
    "Finally, let's save the data for later reuse:"
   ]
  },
  {
   "cell_type": "code",
   "execution_count": null,
   "metadata": {
    "collapsed": true
   },
   "outputs": [],
   "source": [
    "pickle_file = os.path.join(data_root, 'notMNIST.pickle')\n",
    "\n",
    "try:\n",
    "  f = open(pickle_file, 'wb')\n",
    "  save = {\n",
    "    'train_dataset': train_dataset,\n",
    "    'train_labels': train_labels,\n",
    "    'valid_dataset': valid_dataset,\n",
    "    'valid_labels': valid_labels,\n",
    "    'test_dataset': test_dataset,\n",
    "    'test_labels': test_labels,\n",
    "    'sanitized_train_dataset':sanitized_train_dataset,\n",
    "    'sanitized_train_labels':sanitized_train_labels,\n",
    "    'rand_sanit_dataset':rand_sanit_dataset,\n",
    "    'rand_sanit_labels':rand_sanit_labels  \n",
    "    }\n",
    "  pickle.dump(save, f, pickle.HIGHEST_PROTOCOL)\n",
    "  f.close()\n",
    "except Exception as e:\n",
    "  print('Unable to save data to', pickle_file, ':', e)\n",
    "  raise"
   ]
  },
  {
   "cell_type": "code",
   "execution_count": 66,
   "metadata": {},
   "outputs": [
    {
     "name": "stdout",
     "output_type": "stream",
     "text": [
      "Compressed pickle size: 1917328737\n"
     ]
    }
   ],
   "source": [
    "statinfo = os.stat(pickle_file)\n",
    "print('Compressed pickle size:', statinfo.st_size)"
   ]
  },
  {
   "cell_type": "markdown",
   "metadata": {},
   "source": [
    "Problem 5\n",
    "By construction, this dataset might contain a lot of overlapping samples, including training data that's also contained in the validation and test set! Overlap between training and test can skew the results if you expect to use your model in an environment where there is never an overlap, but are actually ok if you expect to see training samples recur when you use it. Measure how much overlap there is between training, validation and test samples.\n",
    "Optional questions:\n",
    "What about near duplicates between datasets? (images that are almost identical)\n",
    "Create a sanitized validation and test set, and compare your accuracy on those in subsequent assignments.\n",
    "\n",
    "\n",
    "\n",
    "Problem 6\n",
    "Let's get an idea of what an off-the-shelf classifier can give you on this data. It's always good to check that there is something to learn, and that it's a problem that is not so trivial that a canned solution solves it.\n",
    "Train a simple model on this data using 50, 100, 1000 and 5000 training samples. Hint: you can use the LogisticRegression model from sklearn.linear_model.\n",
    "Optional question: train an off-the-shelf model on all the data!"
   ]
  },
  {
   "cell_type": "code",
   "execution_count": 3,
   "metadata": {
    "collapsed": true
   },
   "outputs": [],
   "source": [
    "# Change me to store data elsewhere\n",
    "data_root = '.'\n",
    "#Define pickle file path\n",
    "pickle_file = os.path.join(data_root, 'notMNIST.pickle')\n",
    "#Establish dictionary for saved image datasets and labels\n",
    "datasets_labels_dict={}\n",
    "#Open pickle file to 'rb' read instruction\n",
    "pickle_datasets_file = open(pickle_file,'rb')\n",
    "#Recover dictionary of  image datasets and labels nparrays\n",
    "datasets_labels_dict = pickle.load(pickle_datasets_file)"
   ]
  },
  {
   "cell_type": "code",
   "execution_count": 4,
   "metadata": {},
   "outputs": [
    {
     "data": {
      "text/plain": [
       "[<matplotlib.lines.Line2D at 0x1beafb913c8>]"
      ]
     },
     "execution_count": 4,
     "metadata": {},
     "output_type": "execute_result"
    },
    {
     "data": {
      "image/png": "[encoded data removed]",
      "text/plain": [
       "<matplotlib.figure.Figure at 0x1beafb91748>"
      ]
     },
     "metadata": {},
     "output_type": "display_data"
    }
   ],
   "source": [
    "plt.title('Saved Sanitized Training Labels Scatter Plot')\n",
    "plt.plot(np.arange(1,(len(datasets_labels_dict['sanitized_train_labels'])+1))\\\n",
    "         ,datasets_labels_dict['sanitized_train_labels'],\"o\")"
   ]
  },
  {
   "cell_type": "code",
   "execution_count": 5,
   "metadata": {},
   "outputs": [
    {
     "data": {
      "text/plain": [
       "[<matplotlib.lines.Line2D at 0x1beafbbb438>]"
      ]
     },
     "execution_count": 5,
     "metadata": {},
     "output_type": "execute_result"
    },
    {
     "data": {
      "image/png": "[encoded data removed]",
      "text/plain": [
       "<matplotlib.figure.Figure at 0x1beafbbb0f0>"
      ]
     },
     "metadata": {},
     "output_type": "display_data"
    }
   ],
   "source": [
    "plt.title('Saved Test Labels Scatter Plot')\n",
    "plt.plot(np.arange(1,(len(datasets_labels_dict['test_labels'])+1))\\\n",
    "         ,datasets_labels_dict['test_labels'],\"o\")"
   ]
  }
 ],
 "metadata": {
  "kernelspec": {
   "display_name": "Python 3",
   "language": "python",
   "name": "python3"
  },
  "language_info": {
   "codemirror_mode": {
    "name": "ipython",
    "version": 3
   },
   "file_extension": ".py",
   "mimetype": "text/x-python",
   "name": "python",
   "nbconvert_exporter": "python",
   "pygments_lexer": "ipython3",
   "version": "3.6.3"
  }
 },
 "nbformat": 4,
 "nbformat_minor": 2
}
