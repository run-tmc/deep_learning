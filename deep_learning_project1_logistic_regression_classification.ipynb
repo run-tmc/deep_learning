{
 "cells": [
  {
   "cell_type": "markdown",
   "metadata": {},
   "source": [
    "# Deep Learning Project 1 - Logistic Regression Classification"
   ]
  },
  {
   "cell_type": "code",
   "execution_count": 2,
   "metadata": {
    "collapsed": true
   },
   "outputs": [],
   "source": [
    "# These are all the modules we'll be using later. Make sure you can import them\n",
    "# before proceeding further.\n",
    "from __future__ import print_function\n",
    "import matplotlib.pyplot as plt\n",
    "import numpy as np\n",
    "import os\n",
    "import sys\n",
    "import tarfile\n",
    "from IPython.display import display, Image\n",
    "from scipy import ndimage\n",
    "from sklearn.linear_model import LogisticRegression\n",
    "from six.moves.urllib.request import urlretrieve\n",
    "from six.moves import cPickle as pickle\n",
    "from time import time\n",
    "from sklearn.metrics import accuracy_score\n",
    "\n",
    "# Config the matplotlib backend as plotting inline in IPython\n",
    "%matplotlib inline"
   ]
  },
  {
   "cell_type": "markdown",
   "metadata": {},
   "source": [
    "Import pre-processed image datasets from saved dictionary pickle file\n",
    "\n",
    "   {\n",
    "    'train_dataset': train_dataset,\n",
    "    'train_labels': train_labels,\n",
    "    'valid_dataset': valid_dataset,\n",
    "    'valid_labels': valid_labels,\n",
    "    'test_dataset': test_dataset,\n",
    "    'test_labels': test_labels,\n",
    "    'sanitized_train_dataset':sanitized_train_dataset,\n",
    "    'sanitized_train_labels':sanitized_train_labels,\n",
    "    'rand_sanit_dataset':rand_sanit_dataset,\n",
    "    'rand_sanit_labels':rand_sanit_labels  \n",
    "    }"
   ]
  },
  {
   "cell_type": "code",
   "execution_count": 3,
   "metadata": {},
   "outputs": [
    {
     "name": "stdout",
     "output_type": "stream",
     "text": [
      "Pickle file loaded in 0.0218 hours\n"
     ]
    }
   ],
   "source": [
    "# Change me to store data elsewhere\n",
    "start = time()\n",
    "data_root = '.'\n",
    "#Define pickle file path\n",
    "pickle_file = os.path.join(data_root, 'notMNIST.pickle')\n",
    "#Establish dictionary for saved image datasets and labels\n",
    "datasets_labels_dict={}\n",
    "#Open pickle file to 'rb' read instruction\n",
    "pickle_datasets_file = open(pickle_file,'rb')\n",
    "#Recover dictionary of  image datasets and labels nparrays\n",
    "datasets_labels_dict = pickle.load(pickle_datasets_file)\n",
    "end = time()\n",
    "print('Pickle file loaded in {:.4f} hours'.format((end-start)/3600.0))   "
   ]
  },
  {
   "cell_type": "markdown",
   "metadata": {},
   "source": [
    "Visualize selected loaded datasets"
   ]
  },
  {
   "cell_type": "code",
   "execution_count": 4,
   "metadata": {},
   "outputs": [
    {
     "data": {
      "text/plain": [
       "[<matplotlib.lines.Line2D at 0x19ffe6490f0>]"
      ]
     },
     "execution_count": 4,
     "metadata": {},
     "output_type": "execute_result"
    },
    {
     "data": {
      "image/png": "[encoded data removed]",
      "text/plain": [
       "<matplotlib.figure.Figure at 0x19ffe649080>"
      ]
     },
     "metadata": {},
     "output_type": "display_data"
    }
   ],
   "source": [
    "plt.title('Saved Sanitized Training Labels Scatter Plot')\n",
    "plt.plot(np.arange(1,(len(datasets_labels_dict['sanitized_train_labels'])+1))\\\n",
    "         ,datasets_labels_dict['sanitized_train_labels'],\"o\")"
   ]
  },
  {
   "cell_type": "code",
   "execution_count": 5,
   "metadata": {},
   "outputs": [
    {
     "data": {
      "text/plain": [
       "[<matplotlib.lines.Line2D at 0x19f81507a20>]"
      ]
     },
     "execution_count": 5,
     "metadata": {},
     "output_type": "execute_result"
    },
    {
     "data": {
      "image/png": "[encoded data removed]",
      "text/plain": [
       "<matplotlib.figure.Figure at 0x19ffbb96748>"
      ]
     },
     "metadata": {},
     "output_type": "display_data"
    }
   ],
   "source": [
    "plt.title('Saved Unsanitized Training Dataset Scatter Plot')\n",
    "plt.plot(np.arange(1,(len(datasets_labels_dict['train_labels'])+1))\\\n",
    "         ,datasets_labels_dict['train_labels'],\"o\")"
   ]
  },
  {
   "cell_type": "markdown",
   "metadata": {},
   "source": [
    "Train a LogisticRegression model using 50, 100, 500, 1000, and 5000 training samples.  Evaluate training and validation accuracy scoring"
   ]
  },
  {
   "cell_type": "code",
   "execution_count": 17,
   "metadata": {},
   "outputs": [
    {
     "name": "stdout",
     "output_type": "stream",
     "text": [
      "50 training sample lists generated in 0.0000 hours\n",
      "50 training samples modeled in 0.0001 hours\n",
      "Training accuracy is 1.0000\n",
      "Valid accuracy is 0.4649\n",
      "100 training sample lists generated in 0.0000 hours\n",
      "100 training samples modeled in 0.0003 hours\n",
      "Training accuracy is 1.0000\n",
      "Valid accuracy is 0.6283\n",
      "500 training sample lists generated in 0.0000 hours\n",
      "500 training samples modeled in 0.0015 hours\n",
      "Training accuracy is 1.0000\n",
      "Valid accuracy is 0.7592\n",
      "1000 training sample lists generated in 0.0000 hours\n",
      "1000 training samples modeled in 0.0069 hours\n",
      "Training accuracy is 0.9988\n",
      "Valid accuracy is 0.7551\n",
      "5000 training sample lists generated in 0.0000 hours\n",
      "5000 training samples modeled in 0.0353 hours\n",
      "Training accuracy is 0.9573\n",
      "Valid accuracy is 0.7729\n"
     ]
    }
   ],
   "source": [
    "\"\"\"\n",
    "Unsanitized Training Dataset\n",
    "\"\"\"\n",
    "#Define training sample size list\n",
    "training_sample_size_list = [50,100,500,1000,5000]\n",
    "#Define inverse regularization parameter C\n",
    "para_C = 1\n",
    "#Establish modeling variable and model hyperparameters\n",
    "log_regr_model = LogisticRegression(C=para_C, random_state=0)\n",
    "#Define list of training images\n",
    "training_image_list = []\n",
    "#Define list of training labels\n",
    "training_labels_list = []\n",
    "#Define list of training images\n",
    "valid_image_list = []\n",
    "#Define list of training labels\n",
    "valid_labels_list = []\n",
    "#Establish accuracy list for plotting\n",
    "unsanit_training_accuracy_list = []\n",
    "unsanit_valid_accuracy_list = []\n",
    "# Establish list of validation images (raveled 1D) and labels\n",
    "for j in range(0,datasets_labels_dict['valid_dataset'].shape[0]):\n",
    "    valid_image_list.append(np.ravel(datasets_labels_dict['valid_dataset'][j,0:28,0:28]))\n",
    "    valid_labels_list.append(datasets_labels_dict['valid_labels'][j,])\n",
    "#Initialize accuracy variables as floating points data types\n",
    "training_accuracy = 0.0\n",
    "valid_accuracy = 0.0\n",
    "#Loop for training and validating modeling with each sample training sample size\n",
    "for i in range(0,len(training_sample_size_list)):\n",
    "    # Establish list of sample images (raved 1D) and labels\n",
    "    start_list = time()\n",
    "    for j in range(0,training_sample_size_list[i]):\n",
    "        training_image_list.append(np.ravel(datasets_labels_dict['train_dataset'][j,0:28,0:28]))\n",
    "        training_labels_list.append(datasets_labels_dict['train_labels'][j,])\n",
    "    end_list = time()    \n",
    "    print('{} training sample lists generated in {:.4f} hours'.format(training_sample_size_list[i],\\\n",
    "                                                                 (end_list-start_list)/3600.0))   \n",
    "    #Capture time at modeling start\n",
    "    start_model = time()\n",
    "    log_regr_model.fit(training_image_list, training_labels_list)\n",
    "    #Capture time at modeling end\n",
    "    end_model = time()\n",
    "    # Evaluate training accuracy\n",
    "    training_accuracy = accuracy_score(log_regr_model.predict(training_image_list), training_labels_list)\n",
    "    # Add accuracy value to list for plotting\n",
    "    unsanit_training_accuracy_list.append(training_accuracy)\n",
    "    # Evaluate validation accuracy\n",
    "    valid_accuracy = accuracy_score(log_regr_model.predict(valid_image_list),valid_labels_list)\n",
    "    # Add accuracy value to list for plotting\n",
    "    unsanit_valid_accuracy_list.append(valid_accuracy)\n",
    "    print('{} training samples modeled in {:.4f} hours'.format(training_sample_size_list[i],(end_model-start_model)/3600.0))\n",
    "    print('Training accuracy is {:.4f}'.format(training_accuracy))\n",
    "    print('Valid accuracy is {:.4f}'.format(valid_accuracy))\n",
    "    \n",
    "    \n",
    "    "
   ]
  },
  {
   "cell_type": "code",
   "execution_count": 18,
   "metadata": {},
   "outputs": [
    {
     "data": {
      "text/plain": [
       "Text(0,0.5,'Accuracy Scoring')"
      ]
     },
     "execution_count": 18,
     "metadata": {},
     "output_type": "execute_result"
    },
    {
     "data": {
      "image/png": "[encoded data removed]",
      "text/plain": [
       "<matplotlib.figure.Figure at 0x19f82103588>"
      ]
     },
     "metadata": {},
     "output_type": "display_data"
    }
   ],
   "source": [
    "plt.plot(training_sample_size_list,unsanit_training_accuracy_list)\n",
    "plt.plot(training_sample_size_list,unsanit_valid_accuracy_list)\n",
    "plt.title('Unsanitized Training Dataset Logistic Regression Model Validation')\n",
    "plt.xlabel('Training Sample Size')\n",
    "plt.ylabel('Accuracy Scoring')"
   ]
  },
  {
   "cell_type": "code",
   "execution_count": 13,
   "metadata": {},
   "outputs": [
    {
     "name": "stdout",
     "output_type": "stream",
     "text": [
      "50 training sample lists generated in 0.0000 hours\n",
      "50 training samples modeled in 0.0003 hours\n",
      "Training accuracy is 1.0000\n",
      "Valid accuracy is 0.5831\n",
      "100 training sample lists generated in 0.0000 hours\n",
      "100 training samples modeled in 0.0006 hours\n",
      "Training accuracy is 1.0000\n",
      "Valid accuracy is 0.6849\n",
      "500 training sample lists generated in 0.0000 hours\n",
      "500 training samples modeled in 0.0018 hours\n",
      "Training accuracy is 1.0000\n",
      "Valid accuracy is 0.7461\n",
      "1000 training sample lists generated in 0.0000 hours\n",
      "1000 training samples modeled in 0.0061 hours\n",
      "Training accuracy is 0.9988\n",
      "Valid accuracy is 0.7478\n",
      "5000 training sample lists generated in 0.0000 hours\n",
      "5000 training samples modeled in 0.0395 hours\n",
      "Training accuracy is 0.9465\n",
      "Valid accuracy is 0.7682\n"
     ]
    }
   ],
   "source": [
    "\"\"\"\n",
    "Sanitized Training Dataset.  Use validation dataset and label lists from Unsanitized training cell\n",
    "\"\"\"\n",
    "#Define training sample size list\n",
    "training_sample_size_list = [50,100,500,1000,5000]\n",
    "#Define inverse regularization parameter C\n",
    "para_C = 1\n",
    "#Establish modeling variable and model hyperparameters\n",
    "log_regr_model = LogisticRegression(C=para_C, random_state=0)\n",
    "#Define list of training images\n",
    "training_image_list = []\n",
    "#Define list of training labels\n",
    "training_labels_list = []\n",
    "#Initialize accuracy variables as floating points data types\n",
    "training_accuracy = 0.0\n",
    "valid_accuracy = 0.0\n",
    "#Establish accuracy list for plotting\n",
    "sanit_training_accuracy_list = []\n",
    "sanit_valid_accuracy_list = []\n",
    "#Loop for training and validating modeling with each sample training sample size\n",
    "for i in range(0,len(training_sample_size_list)):\n",
    "    # Establish list of sample images (raved 1D) and labels\n",
    "    start_list = time()\n",
    "    for j in range(0,training_sample_size_list[i]):\n",
    "        training_image_list.append(np.ravel(datasets_labels_dict['rand_sanit_dataset'][j,0:28,0:28]))\n",
    "        training_labels_list.append(datasets_labels_dict['rand_sanit_labels'][j,])\n",
    "    end_list = time()    \n",
    "    print('{} training sample lists generated in {:.4f} hours'.format(training_sample_size_list[i],\\\n",
    "                                                                 (end_list-start_list)/3600.0))   \n",
    "    #Capture time at modeling start\n",
    "    start_model = time()\n",
    "    log_regr_model.fit(training_image_list, training_labels_list)\n",
    "    #Capture time at modeling end\n",
    "    end_model = time()\n",
    "    # Evaluate training accuracy\n",
    "    training_accuracy = accuracy_score(log_regr_model.predict(training_image_list), training_labels_list)\n",
    "    # Add accuracy value to list for plotting\n",
    "    sanit_training_accuracy_list.append(training_accuracy)\n",
    "    # Evaluate validation accuracy\n",
    "    valid_accuracy = accuracy_score(log_regr_model.predict(valid_image_list),valid_labels_list)\n",
    "    # Add accuracy value to list for plotting\n",
    "    sanit_valid_accuracy_list.append(valid_accuracy)\n",
    "    print('{} training samples modeled in {:.4f} hours'.format(training_sample_size_list[i],(end_model-start_model)/3600.0))\n",
    "    print('Training accuracy is {:.4f}'.format(training_accuracy))\n",
    "    print('Valid accuracy is {:.4f}'.format(valid_accuracy))\n",
    "    \n",
    "    \n",
    "    "
   ]
  },
  {
   "cell_type": "code",
   "execution_count": 16,
   "metadata": {},
   "outputs": [
    {
     "data": {
      "text/plain": [
       "Text(0,0.5,'Accuracy Scoring')"
      ]
     },
     "execution_count": 16,
     "metadata": {},
     "output_type": "execute_result"
    },
    {
     "data": {
      "image/png": "[encoded data removed]",
      "text/plain": [
       "<matplotlib.figure.Figure at 0x19f85e1ccf8>"
      ]
     },
     "metadata": {},
     "output_type": "display_data"
    }
   ],
   "source": [
    "plt.plot(training_sample_size_list,sanit_training_accuracy_list)\n",
    "plt.plot(training_sample_size_list,sanit_valid_accuracy_list)\n",
    "plt.title('Sanitized Training Dataset Logistic Regression Model Validation')\n",
    "plt.xlabel('Training Sample Size')\n",
    "plt.ylabel('Accuracy Scoring')"
   ]
  },
  {
   "cell_type": "code",
   "execution_count": null,
   "metadata": {
    "collapsed": true
   },
   "outputs": [],
   "source": []
  }
 ],
 "metadata": {
  "kernelspec": {
   "display_name": "Python 3",
   "language": "python",
   "name": "python3"
  },
  "language_info": {
   "codemirror_mode": {
    "name": "ipython",
    "version": 3
   },
   "file_extension": ".py",
   "mimetype": "text/x-python",
   "name": "python",
   "nbconvert_exporter": "python",
   "pygments_lexer": "ipython3",
   "version": "3.6.3"
  }
 },
 "nbformat": 4,
 "nbformat_minor": 2
}
